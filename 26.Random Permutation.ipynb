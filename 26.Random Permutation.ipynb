{
 "cells": [
  {
   "cell_type": "code",
   "execution_count": 8,
   "id": "5b24b53f",
   "metadata": {},
   "outputs": [
    {
     "name": "stdout",
     "output_type": "stream",
     "text": [
      "[18, 3, 32, 22, 11, 14, 5, 33, 39, 40, 30, 19, 51, 28, 10, 36, 41, 9, 35, 37, 24, 25, 48, 29, 17, 47, 44, 26, 8, 6, 21, 45, 1, 23, 2, 49, 46, 13, 12, 34, 15, 31, 16, 43, 50, 20, 38, 7, 4, 42, 0, 27]\n"
     ]
    }
   ],
   "source": [
    "import random\n",
    "#Knuth Shuffle\n",
    "A = [i for i in range(52)]\n",
    "for i in range(52):\n",
    "    random_num = random.randint(0,51)\n",
    "    A[i],A[random_num] = A[random_num], A[i]\n",
    "\n",
    "print(A)\n",
    "    "
   ]
  },
  {
   "cell_type": "code",
   "execution_count": null,
   "id": "4b474046",
   "metadata": {},
   "outputs": [],
   "source": []
  }
 ],
 "metadata": {
  "kernelspec": {
   "display_name": "Python 3",
   "language": "python",
   "name": "python3"
  },
  "language_info": {
   "codemirror_mode": {
    "name": "ipython",
    "version": 3
   },
   "file_extension": ".py",
   "mimetype": "text/x-python",
   "name": "python",
   "nbconvert_exporter": "python",
   "pygments_lexer": "ipython3",
   "version": "3.8.8"
  }
 },
 "nbformat": 4,
 "nbformat_minor": 5
}
