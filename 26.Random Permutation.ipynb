{
 "cells": [
  {
   "cell_type": "markdown",
   "id": "701ef590",
   "metadata": {},
   "source": [
    "Given an array, write a program to generate a random permutation of array elements. This question is also asked as “shuffle a deck of cards” or “randomize a given array”. Here shuffle means that every permutation of array element should be equally likely.\n",
    "\n",
    "Let the given array be arr[]. A simple solution is to create an auxiliary array temp[] which is initially a copy of arr[]. Randomly select an element from temp[], copy the randomly selected element to arr[0], and remove the selected element from temp[]. Repeat the same process n times and keep copying elements to arr[1], arr[2], … . The time complexity of this solution will be O(n^2).\n",
    "\n",
    "Fisher–Yates shuffle Algorithm works in O(n) time complexity. The assumption here is, we are given a function rand() that generates a random number in O(1) time. The idea is to start from the last element and swap it with a randomly selected element from the whole array (including the last). Now consider the array from 0 to n-2 (size reduced by 1), and repeat the process till we hit the first element. \n",
    "\n",
    "Knuth Shuffle（也称 Fisher-Yates 洗牌算法）是一种均匀随机打乱数组的方法，广泛应用于随机抽样、卡牌洗牌、数据随机化等场景。"
   ]
  },
  {
   "cell_type": "code",
   "execution_count": null,
   "id": "5b24b53f",
   "metadata": {},
   "outputs": [
    {
     "name": "stdout",
     "output_type": "stream",
     "text": [
      "[3, 4, 2, 6, 1, 0, 8, 10, 7, 5, 9]\n"
     ]
    }
   ],
   "source": [
    "# Python Program to shuffle a given array\n",
    "# Time Complexity: O(n), assuming that the function rand() takes O(1) time.\n",
    "# Auxiliary Space: O(1)\n",
    "from random import randint\n",
    "\n",
    "# A function to generate a random permutation of arr[]\n",
    "def randomize (arr, n):\n",
    "\t# Start from the last element and swap one by one. We don't\n",
    "\t# need to run for the first element that's why i > 0\n",
    "\tfor i in range(n-1, 0, -1):\n",
    "\t\t# Pick a random index from 0 to i\n",
    "\t\tj = randint(0, i + 1)\n",
    "\t\t# Swap arr[i] with the element at random index\n",
    "\t\tarr[i], arr[j] = arr[j], arr[i]\n",
    "\treturn arr\n",
    "\n",
    "# Driver program to test above function.\n",
    "arr = [0, 1, 2, 3, 4, 5, 6, 7, 8, 9, 10]\n",
    "n = len(arr)\n",
    "print(randomize(arr, n))"
   ]
  },
  {
   "cell_type": "code",
   "execution_count": null,
   "id": "4b474046",
   "metadata": {},
   "outputs": [
    {
     "name": "stdout",
     "output_type": "stream",
     "text": [
      "[31, 37, 19, 26, 18, 25, 23, 9, 33, 32, 15, 11, 6, 36, 0, 24, 39, 4, 43, 12, 38, 8, 46, 51, 29, 34, 44, 22, 13, 49, 41, 20, 14, 48, 28, 45, 42, 35, 40, 50, 16, 27, 7, 47, 10, 5, 30, 2, 1, 17, 21, 3]\n"
     ]
    }
   ],
   "source": [
    "# 相比之下，random.shuffle() 也是 O(n) 复杂度，但更加优化，建议直接使用：\n",
    "# 如果想 在原数组上进行原地修改，可以使用 random.shuffle()：\n",
    "import random\n",
    "\n",
    "arr = [1, 2, 3, 4, 5, 6, 7, 8]\n",
    "random.shuffle(arr)  # 直接修改原数组\n",
    "\n",
    "print(arr)"
   ]
  },
  {
   "cell_type": "code",
   "execution_count": null,
   "id": "c7c5da9f",
   "metadata": {},
   "outputs": [],
   "source": [
    "# 如果使用 NumPy，可以用 numpy.random.permutation()：\n",
    "import numpy as np\n",
    "\n",
    "arr = np.array([1, 2, 3, 4, 5, 6, 7, 8])\n",
    "shuffled_arr = np.random.permutation(arr)  # 生成一个新的随机排列\n",
    "\n",
    "print(shuffled_arr)\n",
    "\n",
    "# 📌 说明\n",
    "# np.random.permutation(arr) 不会修改原数组，而是返回一个新的随机排列数组。\n",
    "# 时间复杂度：O(n)\n",
    "# 适用于大规模数据，因为 NumPy 在处理数值数据上比 random 更高效。"
   ]
  },
  {
   "cell_type": "code",
   "execution_count": null,
   "id": "b5944395",
   "metadata": {},
   "outputs": [],
   "source": [
    "# Python 的 random.sample() 可以生成数组的随机排列：\n",
    "import random\n",
    "\n",
    "arr = [1, 2, 3, 4, 5, 6, 7, 8]\n",
    "shuffled_arr = random.sample(arr, len(arr))  # 生成一个新的随机排列\n",
    "\n",
    "print(shuffled_arr)\n",
    "\n",
    "# 📌 说明\n",
    "# random.sample(arr, len(arr)) 直接返回 arr 的随机排列，但它不会修改原数组。\n",
    "# 时间复杂度：O(n)"
   ]
  }
 ],
 "metadata": {
  "kernelspec": {
   "display_name": ".venv",
   "language": "python",
   "name": "python3"
  },
  "language_info": {
   "codemirror_mode": {
    "name": "ipython",
    "version": 3
   },
   "file_extension": ".py",
   "mimetype": "text/x-python",
   "name": "python",
   "nbconvert_exporter": "python",
   "pygments_lexer": "ipython3",
   "version": "3.13.1"
  }
 },
 "nbformat": 4,
 "nbformat_minor": 5
}
