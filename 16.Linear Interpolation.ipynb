{
 "cells": [
  {
   "cell_type": "code",
   "execution_count": 2,
   "id": "8dab2fd6",
   "metadata": {},
   "outputs": [],
   "source": [
    "def interpolate(a,b,x):\n",
    "    x1, y1 = a\n",
    "    x2, y2 = b\n",
    "    gradient = (y2-y1) / (x2-x1)\n",
    "    y = y1 + gradient*(x - x1)\n",
    "    \n",
    "    return y\n",
    "    "
   ]
  },
  {
   "cell_type": "code",
   "execution_count": 6,
   "id": "8653827d",
   "metadata": {},
   "outputs": [
    {
     "data": {
      "text/plain": [
       "1004.2"
      ]
     },
     "execution_count": 6,
     "metadata": {},
     "output_type": "execute_result"
    }
   ],
   "source": [
    "a = (250,1003)\n",
    "b = (300,1005)\n",
    "interpolate(a,b,280)"
   ]
  },
  {
   "cell_type": "code",
   "execution_count": null,
   "id": "1b4d9ed6",
   "metadata": {},
   "outputs": [],
   "source": []
  }
 ],
 "metadata": {
  "kernelspec": {
   "display_name": "Python 3",
   "language": "python",
   "name": "python3"
  },
  "language_info": {
   "codemirror_mode": {
    "name": "ipython",
    "version": 3
   },
   "file_extension": ".py",
   "mimetype": "text/x-python",
   "name": "python",
   "nbconvert_exporter": "python",
   "pygments_lexer": "ipython3",
   "version": "3.8.8"
  }
 },
 "nbformat": 4,
 "nbformat_minor": 5
}
