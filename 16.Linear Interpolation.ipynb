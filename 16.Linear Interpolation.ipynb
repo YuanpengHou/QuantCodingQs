{
 "cells": [
  {
   "cell_type": "code",
   "execution_count": 5,
   "id": "8dab2fd6",
   "metadata": {},
   "outputs": [
    {
     "name": "stdout",
     "output_type": "stream",
     "text": [
      "6.0\n",
      "6.0\n"
     ]
    },
    {
     "ename": "ValueError",
     "evalue": "x=10 is out of the valid range [2, 6].",
     "output_type": "error",
     "traceback": [
      "\u001b[1;31m---------------------------------------------------------------------------\u001b[0m",
      "\u001b[1;31mValueError\u001b[0m                                Traceback (most recent call last)",
      "Cell \u001b[1;32mIn[5], line 54\u001b[0m\n\u001b[0;32m     52\u001b[0m \u001b[38;5;28mprint\u001b[39m(interpolate(a, b, \u001b[38;5;241m4\u001b[39m))  \u001b[38;5;66;03m# Expected output: 6.0\u001b[39;00m\n\u001b[0;32m     53\u001b[0m \u001b[38;5;28mprint\u001b[39m(interpolate_limited(a, b, \u001b[38;5;241m4\u001b[39m))  \u001b[38;5;66;03m# Expected output: 6.0\u001b[39;00m\n\u001b[1;32m---> 54\u001b[0m \u001b[38;5;28mprint\u001b[39m(\u001b[43minterpolate_limited\u001b[49m\u001b[43m(\u001b[49m\u001b[43ma\u001b[49m\u001b[43m,\u001b[49m\u001b[43m \u001b[49m\u001b[43mb\u001b[49m\u001b[43m,\u001b[49m\u001b[43m \u001b[49m\u001b[38;5;241;43m10\u001b[39;49m\u001b[43m)\u001b[49m)  \u001b[38;5;66;03m# Raises ValueError\u001b[39;00m\n",
      "Cell \u001b[1;32mIn[5], line 43\u001b[0m, in \u001b[0;36minterpolate_limited\u001b[1;34m(a, b, x)\u001b[0m\n\u001b[0;32m     41\u001b[0m \u001b[38;5;66;03m# Ensure x is within the valid range\u001b[39;00m\n\u001b[0;32m     42\u001b[0m \u001b[38;5;28;01mif\u001b[39;00m \u001b[38;5;129;01mnot\u001b[39;00m (x1 \u001b[38;5;241m<\u001b[39m\u001b[38;5;241m=\u001b[39m x \u001b[38;5;241m<\u001b[39m\u001b[38;5;241m=\u001b[39m x2):\n\u001b[1;32m---> 43\u001b[0m     \u001b[38;5;28;01mraise\u001b[39;00m \u001b[38;5;167;01mValueError\u001b[39;00m(\u001b[38;5;124mf\u001b[39m\u001b[38;5;124m\"\u001b[39m\u001b[38;5;124mx=\u001b[39m\u001b[38;5;132;01m{\u001b[39;00mx\u001b[38;5;132;01m}\u001b[39;00m\u001b[38;5;124m is out of the valid range [\u001b[39m\u001b[38;5;132;01m{\u001b[39;00mx1\u001b[38;5;132;01m}\u001b[39;00m\u001b[38;5;124m, \u001b[39m\u001b[38;5;132;01m{\u001b[39;00mx2\u001b[38;5;132;01m}\u001b[39;00m\u001b[38;5;124m].\u001b[39m\u001b[38;5;124m\"\u001b[39m)\n\u001b[0;32m     45\u001b[0m \u001b[38;5;28;01mreturn\u001b[39;00m interpolate(a, b, x)\n",
      "\u001b[1;31mValueError\u001b[0m: x=10 is out of the valid range [2, 6]."
     ]
    }
   ],
   "source": [
    "def interpolate(a, b, x):\n",
    "    \"\"\"\n",
    "    Perform linear interpolation between two points (x1, y1) and (x2, y2).\n",
    "\n",
    "    :param a: Tuple (x1, y1), the first known point.\n",
    "    :param b: Tuple (x2, y2), the second known point.\n",
    "    :param x: The x-value at which to interpolate y.\n",
    "    :return: The interpolated y-value at x.\n",
    "    :raises ValueError: If x1 == x2 (vertical line) or if x is out of range.\n",
    "    \"\"\"\n",
    "    x1, y1 = a\n",
    "    x2, y2 = b\n",
    "    \n",
    "    # Check for vertical line case (x1 == x2)\n",
    "    if x1 == x2:\n",
    "        if y1 == y2:\n",
    "            return y1  # If both points are identical, return the same y\n",
    "        else:\n",
    "            raise ValueError(\"Interpolation is undefined for a vertical line where x1 == x2.\")\n",
    "\n",
    "    # Compute the slope (gradient)\n",
    "    gradient = (y2 - y1) / (x2 - x1)\n",
    "    \n",
    "    # Compute the interpolated y-value\n",
    "    return y1 + gradient * (x - x1)\n",
    "\n",
    "\n",
    "def interpolate_limited(a, b, x):\n",
    "    \"\"\"\n",
    "    Perform linear interpolation but restrict x to be within the range [x1, x2].\n",
    "\n",
    "    :param a: Tuple (x1, y1), the first known point.\n",
    "    :param b: Tuple (x2, y2), the second known point.\n",
    "    :param x: The x-value at which to interpolate y.\n",
    "    :return: The interpolated y-value at x.\n",
    "    :raises ValueError: If x1 == x2 (vertical line) or if x is out of range.\n",
    "    \"\"\"\n",
    "    x1, _ = a\n",
    "    x2, _ = b\n",
    "\n",
    "    # Ensure x is within the valid range\n",
    "    if not (x1 <= x <= x2):\n",
    "        raise ValueError(f\"x={x} is out of the valid range [{x1}, {x2}].\")\n",
    "\n",
    "    return interpolate(a, b, x)\n",
    "\n",
    "\n",
    "# Test Cases\n",
    "a = (2, 4)\n",
    "b = (6, 8)\n",
    "\n",
    "print(interpolate(a, b, 4))  # Expected output: 6.0\n",
    "print(interpolate_limited(a, b, 4))  # Expected output: 6.0\n",
    "print(interpolate_limited(a, b, 10))  # Raises ValueError\n"
   ]
  },
  {
   "cell_type": "code",
   "execution_count": 4,
   "id": "8653827d",
   "metadata": {},
   "outputs": [
    {
     "data": {
      "text/plain": [
       "1004.2"
      ]
     },
     "execution_count": 4,
     "metadata": {},
     "output_type": "execute_result"
    }
   ],
   "source": [
    "a = (250,1003)\n",
    "b = (300,1005)\n",
    "interpolate(a,b,280)"
   ]
  },
  {
   "cell_type": "code",
   "execution_count": null,
   "id": "1b4d9ed6",
   "metadata": {},
   "outputs": [],
   "source": []
  }
 ],
 "metadata": {
  "kernelspec": {
   "display_name": "Python 3",
   "language": "python",
   "name": "python3"
  },
  "language_info": {
   "codemirror_mode": {
    "name": "ipython",
    "version": 3
   },
   "file_extension": ".py",
   "mimetype": "text/x-python",
   "name": "python",
   "nbconvert_exporter": "python",
   "pygments_lexer": "ipython3",
   "version": "3.11.9"
  }
 },
 "nbformat": 4,
 "nbformat_minor": 5
}
