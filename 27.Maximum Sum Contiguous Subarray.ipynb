{
 "cells": [
  {
   "cell_type": "markdown",
   "id": "52981f4f",
   "metadata": {},
   "source": [
    "Duplicate"
   ]
  },
  {
   "cell_type": "code",
   "execution_count": 8,
   "id": "69d65073",
   "metadata": {},
   "outputs": [],
   "source": [
    "def maxSubArray(nums):\n",
    "    maxSub = nums[0]\n",
    "    currSum = 0 \n",
    "    for n in nums:\n",
    "        currSum = max(n, currSum +n)\n",
    "        maxSub = max(maxSub, currSum)\n",
    "    \n",
    "    return maxSub"
   ]
  },
  {
   "cell_type": "code",
   "execution_count": 9,
   "id": "db8f3257",
   "metadata": {},
   "outputs": [],
   "source": [
    "arr = [1,2,-5,4,-3,2,6,-5,-1]"
   ]
  },
  {
   "cell_type": "code",
   "execution_count": 10,
   "id": "dda86a4c",
   "metadata": {},
   "outputs": [
    {
     "data": {
      "text/plain": [
       "9"
      ]
     },
     "execution_count": 10,
     "metadata": {},
     "output_type": "execute_result"
    }
   ],
   "source": [
    "maxSubArray(arr)"
   ]
  },
  {
   "cell_type": "code",
   "execution_count": null,
   "id": "d295fe6c",
   "metadata": {},
   "outputs": [],
   "source": [
    "# 作者：liweiwei1419\n",
    "# 链接：https://leetcode.cn/problems/maximum-subarray/solutions/9058/dong-tai-gui-hua-fen-zhi-fa-python-dai-ma-java-dai/\n",
    "# 来源：力扣（LeetCode）\n",
    "class Solution(object):\n",
    "    def maxSubArray(self, nums):\n",
    "        size = len(nums)\n",
    "        if size == 0:\n",
    "            return 0\n",
    "        dp = [0 for _ in range(size)]\n",
    "        \n",
    "        dp[0] = nums[0]\n",
    "        for i in range(1, size):\n",
    "            if dp[i - 1] >= 0:\n",
    "                dp[i] = dp[i - 1] + nums[i]\n",
    "            else:\n",
    "                dp[i] = nums[i]\n",
    "        return max(dp)"
   ]
  }
 ],
 "metadata": {
  "kernelspec": {
   "display_name": "Python 3",
   "language": "python",
   "name": "python3"
  },
  "language_info": {
   "codemirror_mode": {
    "name": "ipython",
    "version": 3
   },
   "file_extension": ".py",
   "mimetype": "text/x-python",
   "name": "python",
   "nbconvert_exporter": "python",
   "pygments_lexer": "ipython3",
   "version": "3.8.8"
  }
 },
 "nbformat": 4,
 "nbformat_minor": 5
}
