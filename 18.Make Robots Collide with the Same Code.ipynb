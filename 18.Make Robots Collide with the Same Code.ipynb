{
 "cells": [
  {
   "cell_type": "code",
   "execution_count": 29,
   "id": "67c73e4d",
   "metadata": {},
   "outputs": [],
   "source": [
    "def robotsMet(a,b):\n",
    "    return a == b\n",
    "\n",
    "def robotMeet():\n",
    "    flag = False\n",
    "    reachedParachute = False\n",
    "    \n",
    "    while not (robotsMet):\n",
    "        if (reachedParachute):\n",
    "            moveLeft()\n",
    "            moveLeft()\n",
    "        else:\n",
    "            moveLeft()\n",
    "        \n",
    "        if (location == target_parachute):\n",
    "            reachedParachute = True"
   ]
  }
 ],
 "metadata": {
  "kernelspec": {
   "display_name": "Python 3",
   "language": "python",
   "name": "python3"
  },
  "language_info": {
   "codemirror_mode": {
    "name": "ipython",
    "version": 3
   },
   "file_extension": ".py",
   "mimetype": "text/x-python",
   "name": "python",
   "nbconvert_exporter": "python",
   "pygments_lexer": "ipython3",
   "version": "3.8.8"
  }
 },
 "nbformat": 4,
 "nbformat_minor": 5
}
