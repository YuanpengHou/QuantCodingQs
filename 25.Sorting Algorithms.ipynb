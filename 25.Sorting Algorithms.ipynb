{
 "cells": [
  {
   "cell_type": "code",
   "execution_count": 8,
   "id": "ff85f8a5",
   "metadata": {},
   "outputs": [],
   "source": [
    "def mergeSort(arr,s,e): #O(nlogn)\n",
    "    if (e - s + 1) <= 1:\n",
    "        return arr\n",
    "    m = (s+e) // 2\n",
    "    mergeSort(arr,s,m)\n",
    "    mergeSort(arr,m+1,e)\n",
    "    merge(arr,s,m,e)\n",
    "    \n",
    "    return arr\n",
    "    \n",
    "def merge(arr,s,m,e):\n",
    "    L = arr[s:m+1]\n",
    "    R = arr[m+1:e+1]\n",
    "    \n",
    "    i,j,k = 0,0,s\n",
    "    \n",
    "    while i < len(L) and j < len(R):\n",
    "        if L[i] <= R[j]:\n",
    "            arr[k] = L[i]\n",
    "            k += 1\n",
    "            i += 1\n",
    "        else:\n",
    "            arr[k] = R[j]\n",
    "            k += 1\n",
    "            j += 1\n",
    "    \n",
    "    while i < len(L):\n",
    "        arr[k] = L[i]\n",
    "        k += 1\n",
    "        i += 1\n",
    "    while j < len(R):\n",
    "        arr[k] = R[j]\n",
    "        k += 1\n",
    "        j += 1\n"
   ]
  },
  {
   "cell_type": "code",
   "execution_count": 10,
   "id": "cb153373",
   "metadata": {},
   "outputs": [
    {
     "data": {
      "text/plain": [
       "[0, 0, 2, 4, 6, 7]"
      ]
     },
     "execution_count": 10,
     "metadata": {},
     "output_type": "execute_result"
    }
   ],
   "source": [
    "arr = [0,0,4,2,7,6]\n",
    "mergeSort(arr,0,len(arr))"
   ]
  },
  {
   "cell_type": "code",
   "execution_count": 14,
   "id": "26db07ef",
   "metadata": {},
   "outputs": [
    {
     "data": {
      "text/plain": [
       "[0, 0, 2, 4, 6, 7]"
      ]
     },
     "execution_count": 14,
     "metadata": {},
     "output_type": "execute_result"
    }
   ],
   "source": [
    "def insertionSort(arr): #O(n^2)\n",
    "    for i in range(1,len(arr)):\n",
    "        j = i - 1\n",
    "        while( j >= 0 and arr[j+1] < arr[j]):\n",
    "            arr[j+1], arr[i] = arr[i], arr[j+1]\n",
    "            j -= 1\n",
    "    return arr\n",
    "insertionSort(arr)"
   ]
  },
  {
   "cell_type": "code",
   "execution_count": 16,
   "id": "504a3780",
   "metadata": {},
   "outputs": [
    {
     "data": {
      "text/plain": [
       "[0, 0, 2, 4, 6, 7]"
      ]
     },
     "execution_count": 16,
     "metadata": {},
     "output_type": "execute_result"
    }
   ],
   "source": [
    "def quickSort(arr,s,e): #O(n^2) but is usually O(nlogn)\n",
    "    if (e -s + 1) <= 1:\n",
    "        return arr\n",
    "    \n",
    "    pivot = arr[e]\n",
    "    left = s\n",
    "    \n",
    "    for i in range(s,e):\n",
    "        if (arr[i] < pivot):\n",
    "            arr[left], arr[i] = arr[i], arr[left]\n",
    "            left += 1\n",
    "    \n",
    "    arr[e] = arr[left]\n",
    "    arr[left] = pivot\n",
    "    \n",
    "    quickSort(arr,s,left-1)\n",
    "    quickSort(arr,left+1,e)\n",
    "    \n",
    "    return arr\n",
    "\n",
    "quickSort(arr,0,len(arr)-1)"
   ]
  },
  {
   "cell_type": "code",
   "execution_count": null,
   "id": "a0957e51",
   "metadata": {},
   "outputs": [],
   "source": []
  }
 ],
 "metadata": {
  "kernelspec": {
   "display_name": "Python 3",
   "language": "python",
   "name": "python3"
  },
  "language_info": {
   "codemirror_mode": {
    "name": "ipython",
    "version": 3
   },
   "file_extension": ".py",
   "mimetype": "text/x-python",
   "name": "python",
   "nbconvert_exporter": "python",
   "pygments_lexer": "ipython3",
   "version": "3.8.8"
  }
 },
 "nbformat": 4,
 "nbformat_minor": 5
}
