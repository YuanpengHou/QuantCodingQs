{
 "cells": [
  {
   "cell_type": "code",
   "execution_count": 1,
   "id": "a709d538",
   "metadata": {},
   "outputs": [],
   "source": [
    "def factorial(n):\n",
    "    res = 1\n",
    "    for i in range(1,n+1):\n",
    "        res *= i \n",
    "    \n",
    "    return res"
   ]
  },
  {
   "cell_type": "code",
   "execution_count": 6,
   "id": "6fa6aef3",
   "metadata": {},
   "outputs": [],
   "source": [
    "def factorial_recursive(n):\n",
    "    if n == 1:\n",
    "        return 1\n",
    "    return n * factorial_recursive(n-1)"
   ]
  },
  {
   "cell_type": "code",
   "execution_count": null,
   "id": "611e99e0",
   "metadata": {},
   "outputs": [],
   "source": [
    "# Converting the multiplication to addition operation\n",
    "\n",
    "# Function to calculate factorial of the number\n",
    "# without using multiplication operator\n",
    "# Time Complexity: O(N2)\n",
    "# Auxiliary Space: O(1)\n",
    "\n",
    "def factorialWithoutMul(N):\n",
    "\n",
    "\t# Variable to store the final factorial\n",
    "\tans = N\n",
    "\n",
    "\t# Outer loop\n",
    "\ti = N - 1\n",
    "\n",
    "\twhile (i > 0):\n",
    "\t\tsum = 0\n",
    "\n",
    "\t\t# Inner loop\n",
    "\t\tfor j in range(i):\n",
    "\t\t\tsum += ans\n",
    "\n",
    "\t\tans = sum\n",
    "\t\ti -= 1\n",
    "\n",
    "\treturn ans\n",
    "\n",
    "\n",
    "# Driver code\n",
    "if __name__ == '__main__':\n",
    "\n",
    "\t# Input\n",
    "\tN = 5\n",
    "\n",
    "\t# Function calling\n",
    "\tprint(factorialWithoutMul(N))\n",
    "\n",
    "# This code is contributed by SURENDRA_GANGWAR\n"
   ]
  },
  {
   "cell_type": "code",
   "execution_count": null,
   "id": "c2342d79",
   "metadata": {},
   "outputs": [],
   "source": [
    "# Dividing with the reciprocal of the next number instead of multiplying it.\n",
    "\n",
    "# Time Complexity: O(N)\n",
    "# Auxiliary Space: O(1)\n",
    "def factorial(n):\n",
    "\t# Function to find the factorial of (n) without multiplying.\n",
    "\tp = 1\n",
    "\tfor i in range(n, 0, -1):\n",
    "\t\n",
    "\t\t# Loop to calculate the factorial of (n).\n",
    "\t\tp = p / (1.0 / i)\n",
    "\n",
    "\t# Returning the factorial of (n) stored in (p).\n",
    "\treturn p\n",
    "\n",
    "# Driver code\n",
    "n = 5\n",
    "\n",
    "# Printing the factorial of (n).\n",
    "print(factorial(n))\n",
    "\n",
    "# This code is contributed by phasing17.\n"
   ]
  }
 ],
 "metadata": {
  "kernelspec": {
   "display_name": "Python 3",
   "language": "python",
   "name": "python3"
  },
  "language_info": {
   "codemirror_mode": {
    "name": "ipython",
    "version": 3
   },
   "file_extension": ".py",
   "mimetype": "text/x-python",
   "name": "python",
   "nbconvert_exporter": "python",
   "pygments_lexer": "ipython3",
   "version": "3.8.8"
  }
 },
 "nbformat": 4,
 "nbformat_minor": 5
}
