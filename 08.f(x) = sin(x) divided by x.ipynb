{
 "cells": [
  {
   "cell_type": "code",
   "execution_count": 2,
   "id": "bc136b77",
   "metadata": {},
   "outputs": [],
   "source": [
    "import math\n",
    "\n",
    "def f(x):\n",
    "    return math.sin(x)/x"
   ]
  },
  {
   "cell_type": "code",
   "execution_count": 3,
   "id": "87347396",
   "metadata": {},
   "outputs": [
    {
     "data": {
      "text/plain": [
       "-0.05440211108893698"
      ]
     },
     "execution_count": 3,
     "metadata": {},
     "output_type": "execute_result"
    }
   ],
   "source": [
    "f(10)"
   ]
  },
  {
   "cell_type": "code",
   "execution_count": 1,
   "id": "e852352b",
   "metadata": {},
   "outputs": [
    {
     "name": "stdout",
     "output_type": "stream",
     "text": [
      "Taylor 近似 sin(30°): 0.49999999999999994\n",
      "math.sin(30°): 0.49999999999999994\n"
     ]
    }
   ],
   "source": [
    "# 可以使用 泰勒级数（Taylor series） 来逼近 sin(x) 在 Python 中实现，如下：\n",
    "import math\n",
    "\n",
    "def sin_taylor(x, terms=10):\n",
    "    \"\"\" 使用泰勒级数计算 sin(x) 近似值 \"\"\"\n",
    "    x = x % (2 * math.pi)  # 归一化到 [0, 2π]，避免过大输入导致误差\n",
    "    sin_x = 0\n",
    "    for n in range(terms):\n",
    "        coefficient = (-1) ** n  # 交替正负\n",
    "        numerator = x ** (2 * n + 1)  # 计算 x 的奇数次幂\n",
    "        denominator = math.factorial(2 * n + 1)  # 计算 (2n+1)!\n",
    "        sin_x += coefficient * (numerator / denominator)  # 累加泰勒级数展开项\n",
    "    return sin_x\n",
    "\n",
    "# 测试\n",
    "angle = math.radians(30)  # 角度转换为弧度\n",
    "print(f\"Taylor 近似 sin(30°): {sin_taylor(angle, 10)}\")\n",
    "print(f\"math.sin(30°): {math.sin(angle)}\")  # Python 内置 sin 函数\n"
   ]
  },
  {
   "cell_type": "code",
   "execution_count": 2,
   "id": "9fa0529f",
   "metadata": {},
   "outputs": [
    {
     "name": "stdout",
     "output_type": "stream",
     "text": [
      "Taylor 近似 sin(x)/x for x=30°: 0.9549296585513719\n",
      "math.sin(x)/x for x=30°: 0.954929658551372\n"
     ]
    }
   ],
   "source": [
    "# Computers use series to approximate sin(x)/x\n",
    "# 泰勒级数展开 是一种常见的逼近方法，通过截取前几项来获得近似值。\n",
    "# 可以通过调整 terms 参数来控制级数的项数，精度会随之提高。\n",
    "# 对于 x=0 的情况，特别处理返回 1，因为 sin(x) 在此时的极限为 1。\n",
    "import math\n",
    "\n",
    "def sin_over_x_taylor(x, terms=10):\n",
    "    \"\"\" 使用泰勒级数计算 sin(x)/x 近似值 \"\"\"\n",
    "    if x == 0:\n",
    "        return 1  # 特殊情况：x = 0 时 sin(x)/x = 1\n",
    "    \n",
    "    result = 1  # 初始值为 1\n",
    "    x_squared = x * x  # 计算 x^2\n",
    "\n",
    "    # 计算泰勒级数展开的前 'terms' 项\n",
    "    for n in range(1, terms):\n",
    "        # 每一项是 (-1)^(n-1) * (x^(2n) / (2n+1)!)\n",
    "        result += ((-1) ** n) * (x_squared ** n) / math.factorial(2 * n + 1)\n",
    "\n",
    "    return result\n",
    "\n",
    "# 测试\n",
    "angle = math.radians(30)  # 角度转换为弧度\n",
    "print(f\"Taylor 近似 sin(x)/x for x=30°: {sin_over_x_taylor(angle)}\")\n",
    "print(f\"math.sin(x)/x for x=30°: {math.sin(angle)/angle if angle != 0 else 1}\")  # Python 内置计算 sin(x)/x\n"
   ]
  }
 ],
 "metadata": {
  "kernelspec": {
   "display_name": ".venv",
   "language": "python",
   "name": "python3"
  },
  "language_info": {
   "codemirror_mode": {
    "name": "ipython",
    "version": 3
   },
   "file_extension": ".py",
   "mimetype": "text/x-python",
   "name": "python",
   "nbconvert_exporter": "python",
   "pygments_lexer": "ipython3",
   "version": "3.13.1"
  }
 },
 "nbformat": 4,
 "nbformat_minor": 5
}
