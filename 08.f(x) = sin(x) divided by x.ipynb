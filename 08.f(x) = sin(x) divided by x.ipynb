{
 "cells": [
  {
   "cell_type": "code",
   "execution_count": 2,
   "id": "bc136b77",
   "metadata": {},
   "outputs": [],
   "source": [
    "import math\n",
    "\n",
    "def f(x):\n",
    "    return math.sin(x)/x"
   ]
  },
  {
   "cell_type": "code",
   "execution_count": 3,
   "id": "87347396",
   "metadata": {},
   "outputs": [
    {
     "data": {
      "text/plain": [
       "-0.05440211108893698"
      ]
     },
     "execution_count": 3,
     "metadata": {},
     "output_type": "execute_result"
    }
   ],
   "source": [
    "f(10)"
   ]
  },
  {
   "cell_type": "code",
   "execution_count": 6,
   "id": "9fa0529f",
   "metadata": {},
   "outputs": [],
   "source": [
    "#Computers use series to approximate sin(x)"
   ]
  },
  {
   "cell_type": "code",
   "execution_count": null,
   "id": "c606dc5a",
   "metadata": {},
   "outputs": [],
   "source": []
  }
 ],
 "metadata": {
  "kernelspec": {
   "display_name": "Python 3",
   "language": "python",
   "name": "python3"
  },
  "language_info": {
   "codemirror_mode": {
    "name": "ipython",
    "version": 3
   },
   "file_extension": ".py",
   "mimetype": "text/x-python",
   "name": "python",
   "nbconvert_exporter": "python",
   "pygments_lexer": "ipython3",
   "version": "3.8.8"
  }
 },
 "nbformat": 4,
 "nbformat_minor": 5
}
