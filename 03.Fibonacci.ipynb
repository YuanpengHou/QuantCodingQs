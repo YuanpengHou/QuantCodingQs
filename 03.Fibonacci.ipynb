{
 "cells": [
  {
   "cell_type": "code",
   "execution_count": null,
   "id": "9b4f974c",
   "metadata": {},
   "outputs": [],
   "source": [
    "# O(2^n) recursive solution\n",
    "def recursive_fib(n):\n",
    "    if n <= 2:\n",
    "        return 1\n",
    "    return recursive_fib(n-1) + recursive_fib(n-2)"
   ]
  },
  {
   "cell_type": "code",
   "execution_count": 17,
   "id": "3de70adf",
   "metadata": {},
   "outputs": [
    {
     "data": {
      "text/plain": [
       "55"
      ]
     },
     "execution_count": 17,
     "metadata": {},
     "output_type": "execute_result"
    }
   ],
   "source": [
    "recursive_fib(10)"
   ]
  },
  {
   "cell_type": "code",
   "execution_count": null,
   "id": "d2cf7463",
   "metadata": {},
   "outputs": [],
   "source": [
    "# O(n) solution using memoization and dynamic programming\n",
    "def memo_fib(n,cache):\n",
    "    if n<= 1:\n",
    "        return n \n",
    "    if n in cache:\n",
    "        return cache[n]\n",
    "    \n",
    "    cache[n] = memo_fib(n-1,cache) + memo_fib(n-2,cache)\n",
    "    return cache[n]"
   ]
  },
  {
   "cell_type": "code",
   "execution_count": 19,
   "id": "e8c9528e",
   "metadata": {},
   "outputs": [
    {
     "data": {
      "text/plain": [
       "55"
      ]
     },
     "execution_count": 19,
     "metadata": {},
     "output_type": "execute_result"
    }
   ],
   "source": [
    "memo_fib(10,{})"
   ]
  },
  {
   "cell_type": "code",
   "execution_count": null,
   "id": "32862843",
   "metadata": {},
   "outputs": [],
   "source": [
    "# O(1) goden ratio formula solution\n",
    "def golden_fib(N):\n",
    "    golden_ratio = (1 + 5 ** 0.5) / 2\n",
    "    return int((golden_ratio ** N + 1) / 5 ** 0.5)"
   ]
  },
  {
   "cell_type": "code",
   "execution_count": 21,
   "id": "3d518d0c",
   "metadata": {},
   "outputs": [
    {
     "data": {
      "text/plain": [
       "55"
      ]
     },
     "execution_count": 21,
     "metadata": {},
     "output_type": "execute_result"
    }
   ],
   "source": [
    "golden_fib(10)"
   ]
  },
  {
   "cell_type": "code",
   "execution_count": null,
   "id": "bf1fec11",
   "metadata": {},
   "outputs": [],
   "source": []
  }
 ],
 "metadata": {
  "kernelspec": {
   "display_name": "Python 3",
   "language": "python",
   "name": "python3"
  },
  "language_info": {
   "codemirror_mode": {
    "name": "ipython",
    "version": 3
   },
   "file_extension": ".py",
   "mimetype": "text/x-python",
   "name": "python",
   "nbconvert_exporter": "python",
   "pygments_lexer": "ipython3",
   "version": "3.8.8"
  }
 },
 "nbformat": 4,
 "nbformat_minor": 5
}
