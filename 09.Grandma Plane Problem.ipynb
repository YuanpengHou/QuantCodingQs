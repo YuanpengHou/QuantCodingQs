{
 "cells": [
  {
   "cell_type": "code",
   "execution_count": 1,
   "id": "dd86e5a1",
   "metadata": {},
   "outputs": [],
   "source": [
    "#Code to simulate the infamous grandma problem\n",
    "#For simplicity people are labelled from 1-100 in the queue (0-99 index wise) with their seat number the same as their label\n",
    "#Seats are represented as a boolean array - False if empty and True if taken\n",
    "#Grandma is labelled 1 (0 index)\n",
    "#If the 100th person (99th indexed) finds out his seat is empty then we return True and False otherwise\n",
    "\n",
    "import random\n",
    "def simulate():\n",
    "    seats = [False for i in range(100)]  # 创建一个座位列表，False 表示空座\n",
    "    grandma_seat = random.randint(0,99)  # 奶奶随机选择一个座位\n",
    "    if grandma_seat == 0:\n",
    "        return True  # 如果她选了自己的座位，最后 100 号乘客肯定能坐上自己的座位\n",
    "    seats[grandma_seat] = True  # 奶奶占了一个随机座位\n",
    "\n",
    "    for i in range(1,100):  # 轮到其他乘客\n",
    "        if i == 99:  # 最后一个乘客\n",
    "            if seats[99] == False:\n",
    "                return True  # 如果最后一个座位是空的，则返回 True\n",
    "            else:\n",
    "                return False  # 否则返回 False\n",
    "\n",
    "        if seats[i] == False:  # 如果该乘客的座位是空的，就坐下\n",
    "            seats[i] = True\n",
    "        else:  # 否则，随机选择一个空座位\n",
    "            newSeat = random.randint(0,99)\n",
    "            while seats[newSeat]:  # 确保选中的是空座位\n",
    "                newSeat = random.randint(0,99)\n",
    "            seats[newSeat] = True\n",
    "            "
   ]
  },
  {
   "cell_type": "code",
   "execution_count": null,
   "id": "b3128680",
   "metadata": {},
   "outputs": [
    {
     "name": "stdout",
     "output_type": "stream",
     "text": [
      "0.4977\n"
     ]
    }
   ],
   "source": [
    "yesCount = 0\n",
    "noCount = 0\n",
    "for i in range(10000):  # 进行 10000 次实验\n",
    "    if simulate():\n",
    "        yesCount += 1\n",
    "    else:\n",
    "        noCount += 1 \n",
    "\n",
    "print(round(yesCount/(noCount + yesCount),4))  # 输出概率"
   ]
  },
  {
   "cell_type": "code",
   "execution_count": null,
   "id": "16e0c3e0",
   "metadata": {},
   "outputs": [],
   "source": []
  },
  {
   "cell_type": "code",
   "execution_count": null,
   "id": "c4d69ae0",
   "metadata": {},
   "outputs": [],
   "source": []
  }
 ],
 "metadata": {
  "kernelspec": {
   "display_name": "Python 3",
   "language": "python",
   "name": "python3"
  },
  "language_info": {
   "codemirror_mode": {
    "name": "ipython",
    "version": 3
   },
   "file_extension": ".py",
   "mimetype": "text/x-python",
   "name": "python",
   "nbconvert_exporter": "python",
   "pygments_lexer": "ipython3",
   "version": "3.11.9"
  }
 },
 "nbformat": 4,
 "nbformat_minor": 5
}
