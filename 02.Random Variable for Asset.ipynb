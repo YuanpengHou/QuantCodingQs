{
 "cells": [
  {
   "cell_type": "code",
   "execution_count": 2,
   "id": "d05e80e7",
   "metadata": {},
   "outputs": [],
   "source": [
    "def simulate(p,v,u):\n",
    "    i = 0\n",
    "    while ( u > p[i]):\n",
    "        u -= p[i]\n",
    "        i += 1\n",
    "    \n",
    "    return v[i]"
   ]
  },
  {
   "cell_type": "code",
   "execution_count": null,
   "id": "204b8b26",
   "metadata": {},
   "outputs": [],
   "source": []
  }
 ],
 "metadata": {
  "kernelspec": {
   "display_name": "Python 3",
   "language": "python",
   "name": "python3"
  },
  "language_info": {
   "codemirror_mode": {
    "name": "ipython",
    "version": 3
   },
   "file_extension": ".py",
   "mimetype": "text/x-python",
   "name": "python",
   "nbconvert_exporter": "python",
   "pygments_lexer": "ipython3",
   "version": "3.8.8"
  }
 },
 "nbformat": 4,
 "nbformat_minor": 5
}
