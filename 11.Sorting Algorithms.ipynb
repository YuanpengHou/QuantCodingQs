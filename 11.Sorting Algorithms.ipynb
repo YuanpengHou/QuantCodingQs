{
 "cells": [
  {
   "cell_type": "markdown",
   "id": "6ca0049c",
   "metadata": {},
   "source": [
    "Duplicate"
   ]
  },
  {
   "cell_type": "code",
   "execution_count": 7,
   "id": "e378aae9",
   "metadata": {},
   "outputs": [],
   "source": [
    "def mergeSort(arr,s,e):\n",
    "    if (e - s + 1 <=1):\n",
    "        return arr\n",
    "    \n",
    "    m = (s + e) // 2\n",
    "    mergeSort(arr,s,m)\n",
    "    mergeSort(arr,m+1,e)\n",
    "    merge(arr,s,m,e)\n",
    "    \n",
    "    return arr\n",
    "\n",
    "def merge(arr,s,m,e):\n",
    "    L = arr[s:m+1]\n",
    "    R = arr[m+1:e+1]\n",
    "    \n",
    "    i,j,k = 0,0,s\n",
    "    \n",
    "    while i < len(L) and j < len(R):\n",
    "        if L[i] <= R[j]:\n",
    "            arr[k] = L[i]\n",
    "            k += 1\n",
    "            i += 1\n",
    "        else:\n",
    "            arr[k] = R[j]\n",
    "            k += 1\n",
    "            j += 1\n",
    "    \n",
    "    while i < len(L):\n",
    "        arr[k] = L[i]\n",
    "        k += 1\n",
    "        i += 1\n",
    "    while j < len(R):\n",
    "        arr[k] = R[j]\n",
    "        k += 1\n",
    "        j += 1\n"
   ]
  },
  {
   "cell_type": "code",
   "execution_count": 8,
   "id": "27b8fd25",
   "metadata": {},
   "outputs": [],
   "source": [
    "nums = [5,1,1,2,0,0]"
   ]
  },
  {
   "cell_type": "code",
   "execution_count": 9,
   "id": "6b25c5d2",
   "metadata": {},
   "outputs": [
    {
     "data": {
      "text/plain": [
       "[0, 0, 1, 1, 2, 5]"
      ]
     },
     "execution_count": 9,
     "metadata": {},
     "output_type": "execute_result"
    }
   ],
   "source": [
    "mergeSort(nums,0,len(nums))"
   ]
  },
  {
   "cell_type": "code",
   "execution_count": null,
   "id": "57c1526c",
   "metadata": {},
   "outputs": [],
   "source": []
  }
 ],
 "metadata": {
  "kernelspec": {
   "display_name": "Python 3",
   "language": "python",
   "name": "python3"
  },
  "language_info": {
   "codemirror_mode": {
    "name": "ipython",
    "version": 3
   },
   "file_extension": ".py",
   "mimetype": "text/x-python",
   "name": "python",
   "nbconvert_exporter": "python",
   "pygments_lexer": "ipython3",
   "version": "3.8.8"
  }
 },
 "nbformat": 4,
 "nbformat_minor": 5
}
