{
 "cells": [
  {
   "cell_type": "code",
   "execution_count": 1,
   "id": "7592eb87",
   "metadata": {},
   "outputs": [],
   "source": [
    "def histogram(a, bins = 1000, density=False):\n",
    "    start_time = time.perf_counter()\n",
    "    min_data = np.min(a)\n",
    "    max_data = np.max(a)\n",
    "    dx = (max_data - min_data) / bins\n",
    "    print(time.perf_counter() - start_time, 'to calc min/max')\n",
    "    \n",
    "    x = np.zeros(bins)\n",
    "    y = np.zeros(bins+1)\n",
    "    print(time.perf_counter() - start_time, 'to create x, y')\n",
    "    \n",
    "    for i in range(bins):\n",
    "        x[i] = i*dx + min_data\n",
    "    print(time.perf_counter() - start_time, 'to calc bin borders')\n",
    "\n",
    "    a_to_bins = ((a - min_data) / dx).astype(int)\n",
    "    print(time.perf_counter() - start_time, 'to calc bins')\n",
    "    for bin in a_to_bins:\n",
    "        y[bin] += 1\n",
    "    print(time.perf_counter() - start_time, 'to fill bins')\n",
    "    \n",
    "    y[bins-2] += y[bins-1]\n",
    "    y = y[:bins]\n",
    "    \n",
    "    if density == True:\n",
    "        inte = sum((x[1]-x[0])*y)\n",
    "        y /= inte\n",
    "\n",
    "    print(time.perf_counter() - start_time, 'before draw')\n",
    "    plt.bar(x, y, width=dx)\n",
    "    print(time.perf_counter() - start_time, 'after draw')\n",
    "    return np.column_stack((x, y))"
   ]
  }
 ],
 "metadata": {
  "kernelspec": {
   "display_name": "Python 3",
   "language": "python",
   "name": "python3"
  },
  "language_info": {
   "codemirror_mode": {
    "name": "ipython",
    "version": 3
   },
   "file_extension": ".py",
   "mimetype": "text/x-python",
   "name": "python",
   "nbconvert_exporter": "python",
   "pygments_lexer": "ipython3",
   "version": "3.8.8"
  }
 },
 "nbformat": 4,
 "nbformat_minor": 5
}
