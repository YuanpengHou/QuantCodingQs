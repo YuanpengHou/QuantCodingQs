{
 "cells": [
  {
   "cell_type": "markdown",
   "id": "0e86b245",
   "metadata": {},
   "source": [
    "题目描述：\n",
    "\n",
    "有一个人每天从家（home）出发去工作（work），并且来回旅行。每次他出发时会遇到有雨的情况，雨的概率是 1/5。根据他的旅行路径和是否持伞，可能会被雨淋湿。具体规则如下：\n",
    "\n",
    "初始时，家和工作地点各有一把伞。\n",
    "\n",
    "每次从家到工作或从工作到家，他都会随机遇到下雨的情况。如果下雨的概率是 1/5（即生成一个随机数，若为0表示下雨）。\n",
    "\n",
    "如果下雨且他所在的地点没有伞，他会被淋湿。\n",
    "\n",
    "如果下雨且他所在的地点有伞，他会把伞带到下一个地点。\n",
    "\n",
    "你需要通过模拟多次（例如 1000000 次），统计他在所有有雨的情况下被淋湿的概率。\n",
    "\n",
    "输入：\n",
    "\n",
    "无输入参数，程序自动运行模拟。\n",
    "\n",
    "输出：\n",
    "\n",
    "被淋湿的概率（即在有雨的情况下，他被淋湿的次数占有雨的次数的比例）。\n",
    "\n",
    "这个问题可以归纳为：\n",
    "\n",
    "蒙特卡罗模拟：通过大量的随机实验（模拟）来估计某个事件发生的概率。\n",
    "\n",
    "概率与条件判断：考察降雨、伞的转移和是否被淋湿的概率。"
   ]
  },
  {
   "cell_type": "code",
   "execution_count": 8,
   "id": "6809925f",
   "metadata": {},
   "outputs": [
    {
     "name": "stdout",
     "output_type": "stream",
     "text": [
      "Probability of getting wet = 0.2862600382026742\n"
     ]
    }
   ],
   "source": [
    "import random\n",
    "\n",
    "# 初始化伞的数量，家和工作地点各有1把伞\n",
    "umbrellas = {\"home\": 1, \"work\": 1}\n",
    "# 初始地点为家\n",
    "currState = \"home\"\n",
    "# 初始化被淋湿的次数和总共遇到有雨的次数\n",
    "wetCount = 0 \n",
    "isWet = 0 \n",
    "# 设置模拟的次数，1000000次旅行\n",
    "iterations = 1000000\n",
    "\n",
    "# 执行模拟\n",
    "for i in range(iterations):\n",
    "    # 如果当前在家，下一次去工作；如果当前在工作，下一次去家\n",
    "    if currState == \"home\":\n",
    "        nextState = \"work\"\n",
    "    else:\n",
    "        nextState = \"home\"\n",
    "    \n",
    "    # 模拟降雨，生成一个0到4之间的随机整数，表示有1/5的概率下雨\n",
    "    chanceOfRain = random.randint(0, 4)\n",
    "    \n",
    "    # 如果下雨（chanceOfRain == 0），则增加有雨的次数\n",
    "    if chanceOfRain == 0:\n",
    "        isWet += 1\n",
    "    \n",
    "    # 如果下雨且当前地点没有伞，则被淋湿\n",
    "    if chanceOfRain == 0 and umbrellas[currState] == 0:\n",
    "        wetCount += 1\n",
    "        #print(f\"Wet travelling from {currState} to {nextState}\")\n",
    "    \n",
    "    # 如果下雨且当前地点有伞，带伞到下一个地点\n",
    "    elif chanceOfRain == 0 and umbrellas[currState] > 0:\n",
    "        umbrellas[currState] -= 1  # 当前地点的伞减少1\n",
    "        umbrellas[nextState] += 1  # 目标地点的伞增加1\n",
    "    \n",
    "    # 更新当前位置为下一个目标地点\n",
    "    currState = nextState\n",
    "\n",
    "# 输出被淋湿的概率，计算公式是：被淋湿的次数 / 有雨的次数\n",
    "print(f\"Probability of getting wet = {wetCount / isWet}\")"
   ]
  }
 ],
 "metadata": {
  "kernelspec": {
   "display_name": ".venv",
   "language": "python",
   "name": "python3"
  },
  "language_info": {
   "codemirror_mode": {
    "name": "ipython",
    "version": 3
   },
   "file_extension": ".py",
   "mimetype": "text/x-python",
   "name": "python",
   "nbconvert_exporter": "python",
   "pygments_lexer": "ipython3",
   "version": "3.13.1"
  }
 },
 "nbformat": 4,
 "nbformat_minor": 5
}
