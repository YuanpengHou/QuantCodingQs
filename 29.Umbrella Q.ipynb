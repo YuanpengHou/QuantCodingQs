{
 "cells": [
  {
   "cell_type": "code",
   "execution_count": 7,
   "id": "6809925f",
   "metadata": {},
   "outputs": [
    {
     "name": "stdout",
     "output_type": "stream",
     "text": [
      "Probability of getting wet = 0.28547885369653314\n"
     ]
    }
   ],
   "source": [
    "import random\n",
    "\n",
    "umbrellas = {\"home\":1,\"work\":1}\n",
    "currState = \"home\"\n",
    "\n",
    "wetCount = 0 \n",
    "isWet = 0 \n",
    "iterations = 1000000\n",
    "\n",
    "for i in range(iterations):\n",
    "    if currState == \"home\":\n",
    "        nextState = \"work\"\n",
    "    else:\n",
    "        nextState = \"home\"\n",
    "    chanceOfRain = random.randint(0,4)\n",
    "    if chanceOfRain == 0:\n",
    "        isWet += 1\n",
    "    if chanceOfRain == 0 and umbrellas[currState] == 0 :\n",
    "        wetCount += 1\n",
    "        #print(f\"Wet travelling from {currState} to {nextState}\")\n",
    "    elif chanceOfRain == 0 and umbrellas[currState] > 0:\n",
    "        umbrellas[currState] -= 1\n",
    "        umbrellas[nextState] += 1\n",
    "    \n",
    "    currState = nextState\n",
    "    \n",
    "\n",
    "print(f\"Probability of getting wet = {wetCount/isWet}\")\n",
    "        "
   ]
  }
 ],
 "metadata": {
  "kernelspec": {
   "display_name": "Python 3",
   "language": "python",
   "name": "python3"
  },
  "language_info": {
   "codemirror_mode": {
    "name": "ipython",
    "version": 3
   },
   "file_extension": ".py",
   "mimetype": "text/x-python",
   "name": "python",
   "nbconvert_exporter": "python",
   "pygments_lexer": "ipython3",
   "version": "3.8.8"
  }
 },
 "nbformat": 4,
 "nbformat_minor": 5
}
