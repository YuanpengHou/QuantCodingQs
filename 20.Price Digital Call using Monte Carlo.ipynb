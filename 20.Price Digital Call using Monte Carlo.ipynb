{
 "cells": [
  {
   "cell_type": "code",
   "execution_count": 2,
   "id": "b380ee4a",
   "metadata": {},
   "outputs": [
    {
     "name": "stdout",
     "output_type": "stream",
     "text": [
      "Time to expiration: 0.1616 years\n",
      "Call value is $3.68 with SE +/- 0.11\n"
     ]
    }
   ],
   "source": [
    "import numpy as np\n",
    "import datetime\n",
    "\n",
    "# Initial derivative parameters\n",
    "S = 101.15         # Stock price\n",
    "K = 98.01          # Strike price\n",
    "vol = 0.0991       # Volatility (%)\n",
    "r = 0.01           # Risk-free rate (%)\n",
    "N = 10             # Number of time steps\n",
    "M = 1000           # Number of simulations\n",
    "\n",
    "market_value = 3.86  # Market price of option\n",
    "T = (datetime.date(2022, 3, 17) - datetime.date(2022, 1, 17)).days / 365  # Time in years\n",
    "print(f\"Time to expiration: {T:.4f} years\")\n",
    "\n",
    "# Precompute constants\n",
    "dt = T / N\n",
    "nudt = (r - 0.5 * vol**2) * dt\n",
    "volsdt = vol * np.sqrt(dt)\n",
    "lnS = np.log(S)\n",
    "\n",
    "# Monte Carlo Simulation\n",
    "Z = np.random.normal(size=(N, M))  # Standard normal random variables\n",
    "delta_lnSt = nudt + volsdt * Z  # Log returns\n",
    "lnSt = lnS + np.cumsum(delta_lnSt, axis=0)  # Compute log prices over time\n",
    "\n",
    "# Include initial stock price as the first row\n",
    "lnSt = np.vstack([np.full((1, M), lnS), lnSt])\n",
    "\n",
    "# Compute Payoff\n",
    "ST = np.exp(lnSt)  # Convert log prices back to normal prices\n",
    "CT = np.maximum(0, ST[-1] - K)  # Call option payoff\n",
    "C0 = np.exp(-r * T) * np.mean(CT)  # Discounted expected payoff\n",
    "\n",
    "# Compute Standard Error (SE)\n",
    "SE = np.std(CT, ddof=1) / np.sqrt(M)\n",
    "\n",
    "# Print results\n",
    "print(f\"Call value is ${C0:.2f} with SE +/- {SE:.2f}\")"
   ]
  }
 ],
 "metadata": {
  "kernelspec": {
   "display_name": "Python 3",
   "language": "python",
   "name": "python3"
  },
  "language_info": {
   "codemirror_mode": {
    "name": "ipython",
    "version": 3
   },
   "file_extension": ".py",
   "mimetype": "text/x-python",
   "name": "python",
   "nbconvert_exporter": "python",
   "pygments_lexer": "ipython3",
   "version": "3.11.9"
  }
 },
 "nbformat": 4,
 "nbformat_minor": 5
}
