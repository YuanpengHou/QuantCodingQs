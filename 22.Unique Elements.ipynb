{
 "cells": [
  {
   "cell_type": "code",
   "execution_count": 3,
   "id": "4bdb90ef",
   "metadata": {},
   "outputs": [],
   "source": [
    "def uniqueElements(arr):\n",
    "    numSet = {*()}\n",
    "    for n in arr:\n",
    "        numSet.add(n)\n",
    "    \n",
    "    return list(numSet)"
   ]
  },
  {
   "cell_type": "code",
   "execution_count": 4,
   "id": "096e004e",
   "metadata": {},
   "outputs": [],
   "source": [
    "arr = [1, 1, 3, 3, 3, 5, 5, 5, 9, 9, 9, 9]"
   ]
  },
  {
   "cell_type": "code",
   "execution_count": 6,
   "id": "9c974321",
   "metadata": {},
   "outputs": [
    {
     "data": {
      "text/plain": [
       "[1, 3, 5, 9]"
      ]
     },
     "execution_count": 6,
     "metadata": {},
     "output_type": "execute_result"
    }
   ],
   "source": [
    "uniqueElements(arr)"
   ]
  },
  {
   "cell_type": "code",
   "execution_count": null,
   "id": "22f7f77b",
   "metadata": {},
   "outputs": [],
   "source": []
  }
 ],
 "metadata": {
  "kernelspec": {
   "display_name": "Python 3",
   "language": "python",
   "name": "python3"
  },
  "language_info": {
   "codemirror_mode": {
    "name": "ipython",
    "version": 3
   },
   "file_extension": ".py",
   "mimetype": "text/x-python",
   "name": "python",
   "nbconvert_exporter": "python",
   "pygments_lexer": "ipython3",
   "version": "3.8.8"
  }
 },
 "nbformat": 4,
 "nbformat_minor": 5
}
