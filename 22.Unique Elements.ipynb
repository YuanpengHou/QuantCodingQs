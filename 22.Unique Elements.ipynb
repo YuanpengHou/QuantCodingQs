{
 "cells": [
  {
   "cell_type": "code",
   "execution_count": null,
   "id": "4bdb90ef",
   "metadata": {},
   "outputs": [],
   "source": [
    "def uniqueElements(arr):\n",
    "    # numSet = (1, 2, 3) initialize a set,  缺点：不能创建空集合（{} 会变成空字典）。所以只能用set()来创建空集合\n",
    "    numSet = set()\n",
    "    for n in arr:\n",
    "        numSet.add(n)\n",
    "    \n",
    "    return list(numSet)"
   ]
  },
  {
   "cell_type": "code",
   "execution_count": 9,
   "id": "096e004e",
   "metadata": {},
   "outputs": [],
   "source": [
    "arr = [1, 1, 3, 3, 3, 5, 5, 5, 9, 9, 9, 9]"
   ]
  },
  {
   "cell_type": "code",
   "execution_count": 10,
   "id": "9c974321",
   "metadata": {},
   "outputs": [
    {
     "data": {
      "text/plain": [
       "[1, 3, 5, 9]"
      ]
     },
     "execution_count": 10,
     "metadata": {},
     "output_type": "execute_result"
    }
   ],
   "source": [
    "uniqueElements(arr)"
   ]
  },
  {
   "cell_type": "code",
   "execution_count": 11,
   "id": "22f7f77b",
   "metadata": {},
   "outputs": [],
   "source": [
    "# 集合（Set）\n",
    "# 🔹 初始化方式\n",
    "# 方式 1：使用 {}\n",
    "set1 = {1, 2, 3}  # 直接创建\n",
    "set2 = {\"apple\", \"banana\", \"cherry\"}\n",
    "\n",
    "# 方式 2：使用 set() 构造函数\n",
    "set3 = set()  # 空集合（注意：{} 代表字典）\n",
    "set4 = set([1, 2, 3, 3])  # 从列表转换，自动去重\n",
    "set5 = set(\"hello\")  # {'h', 'e', 'l', 'o'}\n",
    "\n",
    "# 方式 3：集合推导式（Set Comprehension）\n",
    "set6 = {x ** 2 for x in range(5)}  # {0, 1, 4, 9, 16}\n",
    "\n",
    "# 🔹 特点\n",
    "# ✅ 无序（没有索引）\n",
    "# ✅ 元素唯一（自动去重）\n",
    "# ✅ 可变（但只能存储不可变对象）\n",
    "# ✅ 支持集合运算（交集 &、并集 |、差集 -）"
   ]
  }
 ],
 "metadata": {
  "kernelspec": {
   "display_name": "Python 3",
   "language": "python",
   "name": "python3"
  },
  "language_info": {
   "codemirror_mode": {
    "name": "ipython",
    "version": 3
   },
   "file_extension": ".py",
   "mimetype": "text/x-python",
   "name": "python",
   "nbconvert_exporter": "python",
   "pygments_lexer": "ipython3",
   "version": "3.11.9"
  }
 },
 "nbformat": 4,
 "nbformat_minor": 5
}
