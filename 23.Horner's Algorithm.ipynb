{
 "cells": [
  {
   "cell_type": "markdown",
   "id": "c4969280",
   "metadata": {},
   "source": [
    "霍纳法则Horner's Method是一种高效计算多项式值的方法，它通过减少乘法运算的次数，提高计算效率，特别适用于嵌入式系统、数值分析和计算机代数等领域。\n",
    "\n",
    "## 多项式计算问题\n",
    "我们要计算以下多项式在 x=3 时的值：\n",
    "𝑃(𝑥)=2x^3 - 6x^2 + 2x - 1\n",
    "\n",
    "### 传统计算方式：\n",
    "\n",
    "P(3)=2(3^3)−6(3^2)+2(3)−1=2(27)−6(9)+6−1=54−54+6−1=5\n",
    "\n",
    "### 霍纳法则的优化思路：\n",
    "\n",
    "霍纳法则的核心思想是提取公因式，将多项式重写成：\n",
    "P(x)=((2x−6)x+2)x−1\n",
    "通过这种嵌套运算（Nested Multiplication），我们减少了乘法运算的次数，从 O(n^2) 降低到了 O(n)。\n",
    "\n",
    "计算步骤：\n",
    "\n",
    "初始值：x = 2\n",
    "\n",
    "迭代计算：\n",
    "\n",
    "(2×3)−6=0\n",
    "\n",
    "(0×3)+2=2\n",
    "\n",
    "(2×3)−1=5\n",
    "\n",
    "最终结果是 5。"
   ]
  },
  {
   "cell_type": "code",
   "execution_count": 1,
   "id": "73c4583e",
   "metadata": {},
   "outputs": [
    {
     "name": "stdout",
     "output_type": "stream",
     "text": [
      "Value of polynomial is  5\n"
     ]
    }
   ],
   "source": [
    "# Python program for implementation of Horner Method for Polynomial Evaluation\n",
    "# returns value of poly[0]x(n-1) + poly[1]x(n-2) + .. + poly[n-1]\n",
    "# 时间复杂度\n",
    "# 传统方法：O(n 2)（需要 n(n−1)/2 次乘法）\n",
    "# 霍纳法则：O(n)（只需 n−1 次乘法和 n−1 次加法）\n",
    "def horner(poly, n, x):\n",
    "    # Initialize result\n",
    "    result = poly[0]  \n",
    "\n",
    "    # Evaluate value of polynomial using Horner's method\n",
    "    for i in range(1, n):\n",
    "        result = result*x + poly[i]\n",
    "  \n",
    "    return result\n",
    "  \n",
    "# Driver program to test above function.\n",
    "# Let us evaluate value of 2x^3 - 6x^2 + 2x - 1 for x = 3\n",
    "poly = [2, -6, 2, -1] # Polynomial coefficients, from highest order to constant term\n",
    "x = 3 # Value of x\n",
    "n = len(poly) # Number of polynomial terms = degree of polynomial + 1 \n",
    " \n",
    "print(\"Value of polynomial is \" , horner(poly, n, x))"
   ]
  },
  {
   "cell_type": "code",
   "execution_count": null,
   "id": "61c6227c",
   "metadata": {},
   "outputs": [],
   "source": [
    "# My O(n) algorithm\n",
    "def jamaal(poly,x):\n",
    "    res = 0\n",
    "    n = len(poly)\n",
    "    power = n - 1\n",
    "    for i in range(n-1):\n",
    "        res += poly[i]*(x**power)\n",
    "        power -= 1\n",
    "    \n",
    "    res += poly[-1]\n",
    "    \n",
    "    return res"
   ]
  },
  {
   "cell_type": "code",
   "execution_count": 10,
   "id": "2f268896",
   "metadata": {},
   "outputs": [
    {
     "name": "stdout",
     "output_type": "stream",
     "text": [
      "Value of polynomial is  5\n"
     ]
    }
   ],
   "source": [
    "print(\"Value of polynomial is \" , jamaal(poly,x))"
   ]
  },
  {
   "cell_type": "code",
   "execution_count": null,
   "id": "961cbc8b",
   "metadata": {},
   "outputs": [],
   "source": []
  }
 ],
 "metadata": {
  "kernelspec": {
   "display_name": "Python 3",
   "language": "python",
   "name": "python3"
  },
  "language_info": {
   "codemirror_mode": {
    "name": "ipython",
    "version": 3
   },
   "file_extension": ".py",
   "mimetype": "text/x-python",
   "name": "python",
   "nbconvert_exporter": "python",
   "pygments_lexer": "ipython3",
   "version": "3.11.9"
  }
 },
 "nbformat": 4,
 "nbformat_minor": 5
}
