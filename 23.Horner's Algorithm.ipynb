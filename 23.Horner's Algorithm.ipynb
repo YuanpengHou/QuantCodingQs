{
 "cells": [
  {
   "cell_type": "code",
   "execution_count": 8,
   "id": "73c4583e",
   "metadata": {},
   "outputs": [
    {
     "name": "stdout",
     "output_type": "stream",
     "text": [
      "Value of polynomial is  5\n"
     ]
    }
   ],
   "source": [
    "# Python program for\n",
    "# implementation of Horner Method \n",
    "# for Polynomial Evaluation\n",
    " \n",
    "# returns value of poly[0]x(n-1)\n",
    "# + poly[1]x(n-2) + .. + poly[n-1]\n",
    "def horner(poly, n, x):\n",
    " \n",
    "    # Initialize result\n",
    "    result = poly[0]  \n",
    "  \n",
    "    # Evaluate value of polynomial\n",
    "    # using Horner's method\n",
    "    for i in range(1, n):\n",
    " \n",
    "        result = result*x + poly[i]\n",
    "  \n",
    "    return result\n",
    "  \n",
    "# Driver program to\n",
    "# test above function.\n",
    " \n",
    "# Let us evaluate value of\n",
    "# 2x3 - 6x2 + 2x - 1 for x = 3\n",
    "poly = [2, -6, 2, -1]\n",
    "x = 3\n",
    "n = len(poly)\n",
    " \n",
    "print(\"Value of polynomial is \" , horner(poly, n, x))"
   ]
  },
  {
   "cell_type": "code",
   "execution_count": 9,
   "id": "61c6227c",
   "metadata": {},
   "outputs": [],
   "source": [
    "#My O(n) algorithm\n",
    "def jamaal(poly,x):\n",
    "    res = 0\n",
    "    n = len(poly)\n",
    "    power = n - 1\n",
    "    for i in range(n-1):\n",
    "        res += poly[i]*(x**power)\n",
    "        power -= 1\n",
    "    \n",
    "    res += poly[-1]\n",
    "    \n",
    "    return res"
   ]
  },
  {
   "cell_type": "code",
   "execution_count": 10,
   "id": "2f268896",
   "metadata": {},
   "outputs": [
    {
     "name": "stdout",
     "output_type": "stream",
     "text": [
      "Value of polynomial is  5\n"
     ]
    }
   ],
   "source": [
    "print(\"Value of polynomial is \" , jamaal(poly,x))"
   ]
  },
  {
   "cell_type": "code",
   "execution_count": null,
   "id": "961cbc8b",
   "metadata": {},
   "outputs": [],
   "source": []
  }
 ],
 "metadata": {
  "kernelspec": {
   "display_name": "Python 3",
   "language": "python",
   "name": "python3"
  },
  "language_info": {
   "codemirror_mode": {
    "name": "ipython",
    "version": 3
   },
   "file_extension": ".py",
   "mimetype": "text/x-python",
   "name": "python",
   "nbconvert_exporter": "python",
   "pygments_lexer": "ipython3",
   "version": "3.8.8"
  }
 },
 "nbformat": 4,
 "nbformat_minor": 5
}
