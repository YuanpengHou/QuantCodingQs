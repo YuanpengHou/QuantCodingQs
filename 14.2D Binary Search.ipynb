{
 "cells": [
  {
   "cell_type": "code",
   "execution_count": 6,
   "id": "6e35e089",
   "metadata": {},
   "outputs": [],
   "source": [
    "matrix = [[1,3,5,7],[10,11,16,20],[23,30,34,60]], \n",
    "target = 3"
   ]
  },
  {
   "cell_type": "code",
   "execution_count": 12,
   "id": "352f339a",
   "metadata": {},
   "outputs": [
    {
     "name": "stdout",
     "output_type": "stream",
     "text": [
      "True\n"
     ]
    }
   ],
   "source": [
    "def grid_binary_search(grid, target):\n",
    "    # 找到目标所在的行\n",
    "    T, B = 0, len(grid) - 1\n",
    "    while T <= B:\n",
    "        row = (T + B) // 2\n",
    "        if target > grid[row][-1]:  # 目标值大于当前行的最大值，向下查找\n",
    "            T = row + 1\n",
    "        elif target < grid[row][0]:  # 目标值小于当前行的最小值，向上查找\n",
    "            B = row - 1\n",
    "        else:  # 目标值在当前行范围内\n",
    "            break\n",
    "    else:\n",
    "        return False  # 目标值不在任何一行范围内\n",
    "    \n",
    "    # 目标值应该在 grid[row] 这一行内，进行二分查找\n",
    "    L, R = 0, len(grid[0]) - 1\n",
    "    while L <= R:\n",
    "        col = (L + R) // 2\n",
    "        if target > grid[row][col]:  # 目标值在右侧\n",
    "            L = col + 1\n",
    "        elif target < grid[row][col]:  # 目标值在左侧\n",
    "            R = col - 1\n",
    "        else:  # 找到目标值\n",
    "            return True\n",
    "    return False\n",
    "\n",
    "# 测试\n",
    "matrix = [[1, 3, 5, 7], [10, 11, 16, 20], [23, 30, 34, 60]]\n",
    "target = 3\n",
    "print(grid_binary_search(matrix, target))  # 输出: True\n"
   ]
  },
  {
   "cell_type": "code",
   "execution_count": 15,
   "id": "73c3b7b3",
   "metadata": {},
   "outputs": [
    {
     "name": "stdout",
     "output_type": "stream",
     "text": [
      "False\n"
     ]
    }
   ],
   "source": [
    "# 作者：灵茶山艾府\n",
    "# 链接：https://leetcode.cn/problems/search-a-2d-matrix/solutions/2783931/liang-chong-fang-fa-er-fen-cha-zhao-pai-39d74/\n",
    "# 来源：力扣（LeetCode）\n",
    "# Way 1\n",
    "# 时间复杂度：O(log(mn))，其中 m 和 n 分别为 matrix 的行数和列数。\n",
    "# 空间复杂度：O(1)。\n",
    "from typing import List\n",
    "\n",
    "def searchMatrix(self, matrix: List[List[int]], target: int) -> bool:\n",
    "    m, n = len(matrix), len(matrix[0])\n",
    "    left, right = -1, m * n\n",
    "    while left + 1 < right:\n",
    "        mid = (left + right) // 2\n",
    "        x = matrix[mid // n][mid % n]\n",
    "        if x == target:\n",
    "            return True\n",
    "        if x < target:\n",
    "            left = mid\n",
    "        else:\n",
    "            right = mid\n",
    "    return False\n",
    "\n",
    "matrix = [[1, 3, 5, 7], [10, 11, 16, 20], [23, 30, 34, 60]]\n",
    "target = 9\n",
    "print(grid_binary_search(matrix, target))  # 输出: True"
   ]
  }
 ],
 "metadata": {
  "kernelspec": {
   "display_name": "Python 3",
   "language": "python",
   "name": "python3"
  },
  "language_info": {
   "codemirror_mode": {
    "name": "ipython",
    "version": 3
   },
   "file_extension": ".py",
   "mimetype": "text/x-python",
   "name": "python",
   "nbconvert_exporter": "python",
   "pygments_lexer": "ipython3",
   "version": "3.11.9"
  }
 },
 "nbformat": 4,
 "nbformat_minor": 5
}
