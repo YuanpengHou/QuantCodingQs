{
 "cells": [
  {
   "cell_type": "code",
   "execution_count": 34,
   "id": "a929f238",
   "metadata": {},
   "outputs": [],
   "source": [
    "def ma(arr,n):\n",
    "    res = []\n",
    "    \n",
    "    i = 0 \n",
    "    \n",
    "    while i < len(arr) - n + 1:\n",
    "        window = arr[i:i+n]\n",
    "        average = round((sum(window)/n),2)\n",
    "        res.append(average)\n",
    "        i += 1\n",
    "    \n",
    "    return res"
   ]
  },
  {
   "cell_type": "code",
   "execution_count": 35,
   "id": "6b2fd11a",
   "metadata": {},
   "outputs": [],
   "source": [
    "arr = [1,2,3,4,6]"
   ]
  },
  {
   "cell_type": "code",
   "execution_count": 36,
   "id": "38c78bbe",
   "metadata": {},
   "outputs": [
    {
     "data": {
      "text/plain": [
       "[]"
      ]
     },
     "execution_count": 36,
     "metadata": {},
     "output_type": "execute_result"
    }
   ],
   "source": [
    "ma(arr,6)"
   ]
  }
 ],
 "metadata": {
  "kernelspec": {
   "display_name": "Python 3",
   "language": "python",
   "name": "python3"
  },
  "language_info": {
   "codemirror_mode": {
    "name": "ipython",
    "version": 3
   },
   "file_extension": ".py",
   "mimetype": "text/x-python",
   "name": "python",
   "nbconvert_exporter": "python",
   "pygments_lexer": "ipython3",
   "version": "3.8.8"
  }
 },
 "nbformat": 4,
 "nbformat_minor": 5
}
