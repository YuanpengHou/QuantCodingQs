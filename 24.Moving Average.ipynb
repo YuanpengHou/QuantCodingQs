{
 "cells": [
  {
   "cell_type": "markdown",
   "id": "fca7d20c",
   "metadata": {},
   "source": [
    "移动平均（Moving Average, MA）是一种统计分析方法，主要用于平滑数据，常见于金融、时间序列分析和信号处理领域。"
   ]
  },
  {
   "cell_type": "code",
   "execution_count": null,
   "id": "a929f238",
   "metadata": {},
   "outputs": [
    {
     "name": "stdout",
     "output_type": "stream",
     "text": [
      "[2.0, 3.0, 4.0, 5.0, 6.0, 7.0]\n"
     ]
    }
   ],
   "source": [
    "# 窗口大小：n\n",
    "# 数组大小：m\n",
    "# 每次计算：sum(window) = O(n)\n",
    "# 总共计算：m - n + 1 次\n",
    "# 时间复杂度：O((m-n+1) * n) ≈ O(m * n) \n",
    "def ma(arr, n):\n",
    "    res = []  # 存储移动平均的结果\n",
    "    i = 0  # 初始化窗口起始索引\n",
    "    \n",
    "    while i < len(arr) - n + 1:\n",
    "        window = arr[i:i+n]  # 取长度为 n 的窗口\n",
    "        average = round(sum(window) / n, 2)  # 计算窗口内的均值，并保留 2 位小数\n",
    "        res.append(average)  # 将均值存入结果列表\n",
    "        i += 1  # 移动窗口\n",
    "    \n",
    "    return res  # 返回所有窗口的移动平均值\n",
    "\n",
    "arr = [1, 2, 3, 4, 5, 6, 7, 8]\n",
    "n = 3\n",
    "print(ma(arr, n))  "
   ]
  },
  {
   "cell_type": "code",
   "execution_count": 3,
   "id": "6b2fd11a",
   "metadata": {},
   "outputs": [
    {
     "name": "stdout",
     "output_type": "stream",
     "text": [
      "[2.0, 3.0, 4.0, 5.0, 6.0, 7.0]\n"
     ]
    }
   ],
   "source": [
    "# 使用 collections.deque 进行优化\n",
    "# 上面的方法在每个窗口滑动时都会重新计算 sum(window)，导致时间复杂度较高。可以使用 deque 实现滑动窗口求和，使时间复杂度降到 O(m)。\n",
    "# 时间复杂度：O(m)\n",
    "from collections import deque\n",
    "\n",
    "def ma_optimized(arr, n):\n",
    "    res = []\n",
    "    window = deque(arr[:n], maxlen=n)  # 初始化窗口\n",
    "    window_sum = sum(window)  # 初始窗口求和\n",
    "    res.append(round(window_sum / n, 2))\n",
    "    \n",
    "    for i in range(n, len(arr)):\n",
    "        window_sum += arr[i] - window[0]  # 加入新元素，移除最老元素\n",
    "        window.append(arr[i])  # 更新窗口\n",
    "        res.append(round(window_sum / n, 2))\n",
    "    \n",
    "    return res\n",
    "\n",
    "arr = [1, 2, 3, 4, 5, 6, 7, 8]\n",
    "n = 3\n",
    "print(ma_optimized(arr, n)) "
   ]
  },
  {
   "cell_type": "markdown",
   "id": "b2dd7233",
   "metadata": {},
   "source": []
  }
 ],
 "metadata": {
  "kernelspec": {
   "display_name": ".venv",
   "language": "python",
   "name": "python3"
  },
  "language_info": {
   "codemirror_mode": {
    "name": "ipython",
    "version": 3
   },
   "file_extension": ".py",
   "mimetype": "text/x-python",
   "name": "python",
   "nbconvert_exporter": "python",
   "pygments_lexer": "ipython3",
   "version": "3.13.1"
  }
 },
 "nbformat": 4,
 "nbformat_minor": 5
}
