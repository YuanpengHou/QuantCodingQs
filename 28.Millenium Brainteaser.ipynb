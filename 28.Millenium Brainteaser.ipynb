{
 "cells": [
  {
   "cell_type": "markdown",
   "id": "40c77751",
   "metadata": {},
   "source": [
    "### 递归 vs. 迭代\n",
    "\n",
    "递归方法：简洁，但随着 n 增大，函数调用栈的深度增加，容易导致栈溢出（RecursionError）。\n",
    "\n",
    "迭代方法：不简洁，但更高效，不会有栈溢出问题。\n",
    "\n",
    "下面的 f(n) 和 g(n) 函数是 递归计算某种数列的累加和，核心模式是 分数项递归累加。\n",
    "\n",
    "f(n) 递归地计算以下数列的前 n 项和：f(n)= k=1∑n 1/(k(4k−1)(4k−2))\n",
    "​\n",
    "递归公式：f(n)= 1/(n(4n−1)(4n−2)) + f(n−1)\n",
    "\n",
    "g(n) 递归地计算以下数列的前 n 项和：g(n)= k=1∑n 1/(k(4k+1)(4k+2))\n",
    "\n",
    "递归公式：g(n)= 1/(n(4n+1)(4n+2)) + g(n−1)\n",
    "\n",
    " \n"
   ]
  },
  {
   "cell_type": "code",
   "execution_count": null,
   "id": "e96ed159",
   "metadata": {},
   "outputs": [],
   "source": [
    "# Recursion\n",
    "def f(n):\n",
    "    if n == 1:\n",
    "        return (1/6)\n",
    "    return (1/(n*(4*n-1)*(4*n-2))) + f(n-1)"
   ]
  },
  {
   "cell_type": "code",
   "execution_count": 20,
   "id": "5da5b511",
   "metadata": {},
   "outputs": [],
   "source": [
    "F = f(1024)"
   ]
  },
  {
   "cell_type": "code",
   "execution_count": null,
   "id": "d51a68da",
   "metadata": {},
   "outputs": [],
   "source": [
    "# Recursion\n",
    "\n",
    "def g(n):\n",
    "    if n == 1:\n",
    "        return (1/30)\n",
    "    return (1/(n*(4*n+1)*(4*n+2))) + g(n-1)"
   ]
  },
  {
   "cell_type": "code",
   "execution_count": 22,
   "id": "0492fcd2",
   "metadata": {},
   "outputs": [],
   "source": [
    "G = g(1024)"
   ]
  },
  {
   "cell_type": "code",
   "execution_count": null,
   "id": "94df712f",
   "metadata": {},
   "outputs": [],
   "source": [
    "# 通过 数学推导（部分分式分解技巧），它们的和会接近于：\n",
    "# limn→∞(f(n)+3−g(n))= π/4\n",
    "\n",
    "res = F + 3 - G"
   ]
  },
  {
   "cell_type": "code",
   "execution_count": 24,
   "id": "b04b05cf",
   "metadata": {},
   "outputs": [
    {
     "data": {
      "text/plain": [
       "3.141592653560732"
      ]
     },
     "execution_count": 24,
     "metadata": {},
     "output_type": "execute_result"
    }
   ],
   "source": [
    "res"
   ]
  },
  {
   "cell_type": "code",
   "execution_count": null,
   "id": "3e911182",
   "metadata": {},
   "outputs": [
    {
     "data": {
      "text/plain": [
       "3.141592653589793"
      ]
     },
     "execution_count": 28,
     "metadata": {},
     "output_type": "execute_result"
    }
   ],
   "source": [
    "import math\n",
    "\n",
    "math.pi"
   ]
  },
  {
   "cell_type": "code",
   "execution_count": null,
   "id": "f309227e",
   "metadata": {},
   "outputs": [],
   "source": [
    "# 等效的迭代实现：\n",
    "\n",
    "def f_iter(n):\n",
    "    result = 0\n",
    "    for k in range(1, n + 1):\n",
    "        result += 1 / (k * (4 * k - 1) * (4 * k - 2))\n",
    "    return result\n",
    "\n",
    "def g_iter(n):\n",
    "    result = 0\n",
    "    for k in range(1, n + 1):\n",
    "        result += 1 / (k * (4 * k + 1) * (4 * k + 2))\n",
    "    return result\n",
    "\n",
    "print(f_iter(10))  # 计算 f(10)\n",
    "print(g_iter(10))  # 计算 g(10)"
   ]
  }
 ],
 "metadata": {
  "kernelspec": {
   "display_name": "Python 3",
   "language": "python",
   "name": "python3"
  },
  "language_info": {
   "codemirror_mode": {
    "name": "ipython",
    "version": 3
   },
   "file_extension": ".py",
   "mimetype": "text/x-python",
   "name": "python",
   "nbconvert_exporter": "python",
   "pygments_lexer": "ipython3",
   "version": "3.8.8"
  }
 },
 "nbformat": 4,
 "nbformat_minor": 5
}
