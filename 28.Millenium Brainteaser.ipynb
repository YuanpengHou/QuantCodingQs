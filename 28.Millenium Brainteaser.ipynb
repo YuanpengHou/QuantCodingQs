{
 "cells": [
  {
   "cell_type": "code",
   "execution_count": 12,
   "id": "e96ed159",
   "metadata": {},
   "outputs": [],
   "source": [
    "def f(n):\n",
    "    if n == 1:\n",
    "        return (1/6)\n",
    "    return (1/(n*(4*n-1)*(4*n-2)))+f(n-1)"
   ]
  },
  {
   "cell_type": "code",
   "execution_count": 20,
   "id": "5da5b511",
   "metadata": {},
   "outputs": [],
   "source": [
    "F = f(1024)"
   ]
  },
  {
   "cell_type": "code",
   "execution_count": 21,
   "id": "d51a68da",
   "metadata": {},
   "outputs": [],
   "source": [
    "def g(n):\n",
    "    if n == 1:\n",
    "        return (1/30)\n",
    "    return (1/(n*(4*n+1)*(4*n+2)))+g(n-1)"
   ]
  },
  {
   "cell_type": "code",
   "execution_count": 22,
   "id": "0492fcd2",
   "metadata": {},
   "outputs": [],
   "source": [
    "G = g(1024)"
   ]
  },
  {
   "cell_type": "code",
   "execution_count": 23,
   "id": "94df712f",
   "metadata": {},
   "outputs": [],
   "source": [
    "res = F + 3 - G"
   ]
  },
  {
   "cell_type": "code",
   "execution_count": 24,
   "id": "b04b05cf",
   "metadata": {},
   "outputs": [
    {
     "data": {
      "text/plain": [
       "3.141592653560732"
      ]
     },
     "execution_count": 24,
     "metadata": {},
     "output_type": "execute_result"
    }
   ],
   "source": [
    "res"
   ]
  },
  {
   "cell_type": "code",
   "execution_count": 28,
   "id": "3e911182",
   "metadata": {},
   "outputs": [
    {
     "data": {
      "text/plain": [
       "3.141592653589793"
      ]
     },
     "execution_count": 28,
     "metadata": {},
     "output_type": "execute_result"
    }
   ],
   "source": [
    "import math\n",
    "math.pi"
   ]
  }
 ],
 "metadata": {
  "kernelspec": {
   "display_name": "Python 3",
   "language": "python",
   "name": "python3"
  },
  "language_info": {
   "codemirror_mode": {
    "name": "ipython",
    "version": 3
   },
   "file_extension": ".py",
   "mimetype": "text/x-python",
   "name": "python",
   "nbconvert_exporter": "python",
   "pygments_lexer": "ipython3",
   "version": "3.8.8"
  }
 },
 "nbformat": 4,
 "nbformat_minor": 5
}
