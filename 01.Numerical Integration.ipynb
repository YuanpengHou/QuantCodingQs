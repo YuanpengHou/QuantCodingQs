{
 "cells": [
  {
   "cell_type": "code",
   "execution_count": 25,
   "id": "870fc77c",
   "metadata": {},
   "outputs": [],
   "source": [
    "#Numerical Integration using the midpoint rule\n",
    "\n",
    "def func(x):\n",
    "    return x**3\n",
    "\n",
    "def integrate(a,b,n):\n",
    "    delta = (b-a) // n\n",
    "    diff = delta // 2\n",
    "    total = 0\n",
    "    for i in range(a + diff,b+1,delta):\n",
    "        print(i)\n",
    "        total += func(i)\n",
    "    \n",
    "    return delta*total\n",
    "        "
   ]
  },
  {
   "cell_type": "code",
   "execution_count": 30,
   "id": "4819ab94",
   "metadata": {},
   "outputs": [
    {
     "name": "stdout",
     "output_type": "stream",
     "text": [
      "1\n",
      "3\n",
      "5\n",
      "7\n"
     ]
    },
    {
     "data": {
      "text/plain": [
       "992"
      ]
     },
     "execution_count": 30,
     "metadata": {},
     "output_type": "execute_result"
    }
   ],
   "source": [
    "integrate(0,8,4)"
   ]
  },
  {
   "cell_type": "code",
   "execution_count": null,
   "id": "9385b385",
   "metadata": {},
   "outputs": [],
   "source": []
  }
 ],
 "metadata": {
  "kernelspec": {
   "display_name": "Python 3",
   "language": "python",
   "name": "python3"
  },
  "language_info": {
   "codemirror_mode": {
    "name": "ipython",
    "version": 3
   },
   "file_extension": ".py",
   "mimetype": "text/x-python",
   "name": "python",
   "nbconvert_exporter": "python",
   "pygments_lexer": "ipython3",
   "version": "3.8.8"
  }
 },
 "nbformat": 4,
 "nbformat_minor": 5
}
