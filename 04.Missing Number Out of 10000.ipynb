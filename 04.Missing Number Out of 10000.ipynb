{
 "cells": [
  {
   "cell_type": "code",
   "execution_count": 1,
   "id": "55e26bb6",
   "metadata": {},
   "outputs": [],
   "source": [
    "def find(nums):\n",
    "    grandTotal = (10000*10001)/2\n",
    "    return grandTotal - sum(nums)"
   ]
  },
  {
   "cell_type": "code",
   "execution_count": 6,
   "id": "8d28c3f6",
   "metadata": {},
   "outputs": [
    {
     "name": "stdout",
     "output_type": "stream",
     "text": [
      "3179\n"
     ]
    }
   ],
   "source": [
    "import random\n",
    "numbers = []\n",
    "for i in range(1,10001):\n",
    "    numbers.append(i)\n",
    "toRemove = random.randint(1,10000)\n",
    "print(toRemove)\n",
    "numbers.remove(toRemove)"
   ]
  },
  {
   "cell_type": "code",
   "execution_count": null,
   "id": "1b6e43e1",
   "metadata": {},
   "outputs": [],
   "source": []
  }
 ],
 "metadata": {
  "kernelspec": {
   "display_name": "Python 3",
   "language": "python",
   "name": "python3"
  },
  "language_info": {
   "codemirror_mode": {
    "name": "ipython",
    "version": 3
   },
   "file_extension": ".py",
   "mimetype": "text/x-python",
   "name": "python",
   "nbconvert_exporter": "python",
   "pygments_lexer": "ipython3",
   "version": "3.8.8"
  }
 },
 "nbformat": 4,
 "nbformat_minor": 5
}
