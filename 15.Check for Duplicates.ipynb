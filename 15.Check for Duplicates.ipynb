{
 "cells": [
  {
   "cell_type": "code",
   "execution_count": 1,
   "id": "ee095d1e",
   "metadata": {},
   "outputs": [],
   "source": [
    "def no_duplicates(nums):\n",
    "    hashset = {*()}\n",
    "    for n in nums:\n",
    "        if (n in hashset):\n",
    "            return False\n",
    "        else:\n",
    "            hashset.add(n)\n",
    "    \n",
    "    return True"
   ]
  },
  {
   "cell_type": "code",
   "execution_count": 5,
   "id": "4180162d",
   "metadata": {},
   "outputs": [],
   "source": [
    "nums = [1,3,2,4,5]"
   ]
  },
  {
   "cell_type": "code",
   "execution_count": 6,
   "id": "32feafca",
   "metadata": {},
   "outputs": [
    {
     "data": {
      "text/plain": [
       "True"
      ]
     },
     "execution_count": 6,
     "metadata": {},
     "output_type": "execute_result"
    }
   ],
   "source": [
    "no_duplicates(nums)"
   ]
  },
  {
   "cell_type": "code",
   "execution_count": null,
   "id": "f44e5d71",
   "metadata": {},
   "outputs": [],
   "source": []
  }
 ],
 "metadata": {
  "kernelspec": {
   "display_name": "Python 3",
   "language": "python",
   "name": "python3"
  },
  "language_info": {
   "codemirror_mode": {
    "name": "ipython",
    "version": 3
   },
   "file_extension": ".py",
   "mimetype": "text/x-python",
   "name": "python",
   "nbconvert_exporter": "python",
   "pygments_lexer": "ipython3",
   "version": "3.11.9"
  }
 },
 "nbformat": 4,
 "nbformat_minor": 5
}
