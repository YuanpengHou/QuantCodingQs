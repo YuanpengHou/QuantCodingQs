{
 "cells": [
  {
   "cell_type": "code",
   "execution_count": null,
   "id": "1d854814",
   "metadata": {},
   "outputs": [],
   "source": [
    "# ⚠ 溢出风险：如果 i 和 j 是非常大的整数（如 Python 以外的编程语言的 int 类型），i + j 可能会超出整数范围，导致溢出。\n",
    "# ⚠ 代码可读性较低：相比直接 i, j = j, i，这种方式可能会增加理解难度。\n",
    "\n",
    "def numSwap(i, j):\n",
    "    i = i + j  # 第一步：i 变成 (i + j)\n",
    "    j = i - j  # 第二步：j 变成 (i + j - j) = i（原始 i 的值）\n",
    "    i = i - j  # 第三步：i 变成 (i + j - i) = j（原始 j 的值）\n",
    "    return (i, j)  # 返回交换后的 i, j"
   ]
  },
  {
   "cell_type": "code",
   "execution_count": 6,
   "id": "415e28c4",
   "metadata": {},
   "outputs": [
    {
     "data": {
      "text/plain": [
       "(4, 11)"
      ]
     },
     "execution_count": 6,
     "metadata": {},
     "output_type": "execute_result"
    }
   ],
   "source": [
    "numSwap(11,4)"
   ]
  },
  {
   "cell_type": "code",
   "execution_count": null,
   "id": "cc4c147e",
   "metadata": {},
   "outputs": [],
   "source": [
    "# 更安全的方式\n",
    "\n",
    "# ✅ 方式 1：使用 Python 元组交换（推荐）\n",
    "\n",
    "i, j = j, i"
   ]
  },
  {
   "cell_type": "code",
   "execution_count": null,
   "id": "2dee4859",
   "metadata": {},
   "outputs": [],
   "source": [
    "# ✅ 方式 2：使用 XOR 位运算（无溢出）\n",
    "# XOR 是逐位运算，不像加法 i + j 可能导致整数溢出。\n",
    "# 在 Python 中，整数是任意精度的，所以不会有溢出问题，但在 C/C++ 等语言中，i + j 可能会超出 int 的范围，而 XOR 交换不会。\n",
    "\n",
    "def numSwap(i, j):\n",
    "    i = i ^ j\n",
    "    j = i ^ j\n",
    "    i = i ^ j\n",
    "    return (i, j)"
   ]
  },
  {
   "cell_type": "code",
   "execution_count": null,
   "id": "63bd7ce4",
   "metadata": {},
   "outputs": [],
   "source": []
  }
 ],
 "metadata": {
  "kernelspec": {
   "display_name": "Python 3",
   "language": "python",
   "name": "python3"
  },
  "language_info": {
   "codemirror_mode": {
    "name": "ipython",
    "version": 3
   },
   "file_extension": ".py",
   "mimetype": "text/x-python",
   "name": "python",
   "nbconvert_exporter": "python",
   "pygments_lexer": "ipython3",
   "version": "3.8.8"
  }
 },
 "nbformat": 4,
 "nbformat_minor": 5
}
