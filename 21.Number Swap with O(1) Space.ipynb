{
 "cells": [
  {
   "cell_type": "code",
   "execution_count": 3,
   "id": "1d854814",
   "metadata": {},
   "outputs": [],
   "source": [
    "def numSwap(i,j):\n",
    "    i = i + j\n",
    "    j = i - j\n",
    "    i = i - j\n",
    "    return (i,j)"
   ]
  },
  {
   "cell_type": "code",
   "execution_count": 6,
   "id": "415e28c4",
   "metadata": {},
   "outputs": [
    {
     "data": {
      "text/plain": [
       "(4, 11)"
      ]
     },
     "execution_count": 6,
     "metadata": {},
     "output_type": "execute_result"
    }
   ],
   "source": [
    "numSwap(11,4)"
   ]
  },
  {
   "cell_type": "code",
   "execution_count": null,
   "id": "cc4c147e",
   "metadata": {},
   "outputs": [],
   "source": []
  }
 ],
 "metadata": {
  "kernelspec": {
   "display_name": "Python 3",
   "language": "python",
   "name": "python3"
  },
  "language_info": {
   "codemirror_mode": {
    "name": "ipython",
    "version": 3
   },
   "file_extension": ".py",
   "mimetype": "text/x-python",
   "name": "python",
   "nbconvert_exporter": "python",
   "pygments_lexer": "ipython3",
   "version": "3.8.8"
  }
 },
 "nbformat": 4,
 "nbformat_minor": 5
}
