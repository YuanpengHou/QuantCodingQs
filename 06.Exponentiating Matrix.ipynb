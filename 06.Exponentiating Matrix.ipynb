{
 "cells": [
  {
   "cell_type": "code",
   "execution_count": 2,
   "id": "601db36c",
   "metadata": {},
   "outputs": [],
   "source": [
    "# Python3 program to find value of f(n) \n",
    "# where f(n) is defined as\n",
    "# F(n) = F(n-1) + F(n-2) + F(n-3), n >= 3\n",
    "# Base Cases :\n",
    "# F(0) = 0, F(1) = 1, F(2) = 1\n",
    " \n",
    "# A utility function to multiply two \n",
    "# matrices a[][] and b[][]. Multiplication \n",
    "# result is stored back in b[][]\n",
    "def multiply(a, b):\n",
    "     \n",
    "    # Creating an auxiliary matrix \n",
    "    # to store elements of the\n",
    "    # multiplication matrix\n",
    "    mul = [[0 for x in range(3)]\n",
    "              for y in range(3)];\n",
    "    for i in range(3):\n",
    "        for j in range(3):\n",
    "            mul[i][j] = 0;\n",
    "            for k in range(3):\n",
    "                mul[i][j] += a[i][k] * b[k][j];\n",
    " \n",
    "    # storing the multiplication\n",
    "    # result in a[][]\n",
    "    for i in range(3):\n",
    "        for j in range(3):\n",
    "            a[i][j] = mul[i][j]; # Updating our matrix\n",
    "    return a;\n",
    " \n",
    "# Function to compute F raise \n",
    "# to power n-2.\n",
    "def power(F, n):\n",
    " \n",
    "    M = [[1, 1, 1], [1, 0, 0], [0, 1, 0]];\n",
    " \n",
    "    # Multiply it with initial values i.e \n",
    "    # with F(0) = 0, F(1) = 1, F(2) = 1\n",
    "    if (n == 1):\n",
    "        return F[0][0] + F[0][1];\n",
    " \n",
    "    power(F, int(n / 2));\n",
    " \n",
    "    F = multiply(F, F);\n",
    " \n",
    "    if (n % 2 != 0):\n",
    "        F = multiply(F, M);\n",
    " \n",
    "    # Multiply it with initial values i.e \n",
    "    # with F(0) = 0, F(1) = 1, F(2) = 1\n",
    "    return F[0][0] + F[0][1] "
   ]
  }
 ],
 "metadata": {
  "kernelspec": {
   "display_name": "Python 3",
   "language": "python",
   "name": "python3"
  },
  "language_info": {
   "codemirror_mode": {
    "name": "ipython",
    "version": 3
   },
   "file_extension": ".py",
   "mimetype": "text/x-python",
   "name": "python",
   "nbconvert_exporter": "python",
   "pygments_lexer": "ipython3",
   "version": "3.8.8"
  }
 },
 "nbformat": 4,
 "nbformat_minor": 5
}
