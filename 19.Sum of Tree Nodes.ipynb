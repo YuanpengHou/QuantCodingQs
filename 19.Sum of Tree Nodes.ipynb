{
 "cells": [
  {
   "cell_type": "code",
   "execution_count": 2,
   "id": "2d8a1588",
   "metadata": {},
   "outputs": [],
   "source": [
    "def inorderTraversal(root):\n",
    "    total = 0\n",
    "\n",
    "    def inorderDFS(root):\n",
    "        if not root:\n",
    "            return \n",
    "        inorderDFS(root.left)\n",
    "        total += root.val\n",
    "        inorderDFS(root.right)\n",
    "\n",
    "    inorderDFS(root)\n",
    "    return total"
   ]
  }
 ],
 "metadata": {
  "kernelspec": {
   "display_name": "Python 3",
   "language": "python",
   "name": "python3"
  },
  "language_info": {
   "codemirror_mode": {
    "name": "ipython",
    "version": 3
   },
   "file_extension": ".py",
   "mimetype": "text/x-python",
   "name": "python",
   "nbconvert_exporter": "python",
   "pygments_lexer": "ipython3",
   "version": "3.8.8"
  }
 },
 "nbformat": 4,
 "nbformat_minor": 5
}
