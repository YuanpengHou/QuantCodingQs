{
 "cells": [
  {
   "cell_type": "code",
   "execution_count": 6,
   "id": "2d8a1588",
   "metadata": {},
   "outputs": [],
   "source": [
    "def inorderTraversal(root):\n",
    "    # Python 作用域规则：在 inorderDFS(root) 内部，若total += root.val 试图修改 total，但 total 是外部函数 inorderTraversal 里的局部变量。Python 默认不会将 total 视为全局变量，除非使用 nonlocal 或 global 声明。\n",
    "    total = 0\n",
    "\n",
    "    def inorderDFS(root):\n",
    "        nonlocal total  # Declare total as nonlocal\n",
    "        if not root:\n",
    "            return \n",
    "        inorderDFS(root.left)\n",
    "        total += root.val\n",
    "        inorderDFS(root.right)\n",
    "\n",
    "    inorderDFS(root)\n",
    "    return total"
   ]
  },
  {
   "cell_type": "code",
   "execution_count": 7,
   "id": "e0e69b92",
   "metadata": {},
   "outputs": [
    {
     "name": "stdout",
     "output_type": "stream",
     "text": [
      "6\n"
     ]
    }
   ],
   "source": [
    "class TreeNode:\n",
    "    def __init__(self, val=0, left=None, right=None):\n",
    "        self.val = val\n",
    "        self.left = left\n",
    "        self.right = right\n",
    "\n",
    "# Example tree:\n",
    "#     1\n",
    "#    / \\\n",
    "#   2   3\n",
    "root = TreeNode(1)\n",
    "root.left = TreeNode(2)\n",
    "root.right = TreeNode(3)\n",
    "\n",
    "print(inorderTraversal(root))  # Output: 6 (1 + 2 + 3)"
   ]
  }
 ],
 "metadata": {
  "kernelspec": {
   "display_name": "Python 3",
   "language": "python",
   "name": "python3"
  },
  "language_info": {
   "codemirror_mode": {
    "name": "ipython",
    "version": 3
   },
   "file_extension": ".py",
   "mimetype": "text/x-python",
   "name": "python",
   "nbconvert_exporter": "python",
   "pygments_lexer": "ipython3",
   "version": "3.11.9"
  }
 },
 "nbformat": 4,
 "nbformat_minor": 5
}
